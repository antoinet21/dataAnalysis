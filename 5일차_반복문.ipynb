{
  "nbformat": 4,
  "nbformat_minor": 0,
  "metadata": {
    "colab": {
      "provenance": [],
      "name": "5일차_반복문.ipynb",
      "authorship_tag": "ABX9TyNLpteMIdxdZlss6cZVHjQ5",
      "include_colab_link": true
    },
    "kernelspec": {
      "name": "python3",
      "display_name": "Python 3"
    },
    "language_info": {
      "name": "python"
    }
  },
  "cells": [
    {
      "cell_type": "markdown",
      "metadata": {
        "id": "view-in-github",
        "colab_type": "text"
      },
      "source": [
        "<a href=\"https://colab.research.google.com/github/antoinet21/dataAnalysis/blob/main/5%EC%9D%BC%EC%B0%A8_%EB%B0%98%EB%B3%B5%EB%AC%B8.ipynb\" target=\"_parent\"><img src=\"https://colab.research.google.com/assets/colab-badge.svg\" alt=\"Open In Colab\"/></a>"
      ]
    },
    {
      "cell_type": "markdown",
      "source": [],
      "metadata": {
        "id": "3STP8aguoEF_"
      }
    },
    {
      "cell_type": "markdown",
      "source": [
        "1. 다양한 반복문"
      ],
      "metadata": {
        "id": "A5M2l467oJs-"
      }
    },
    {
      "cell_type": "code",
      "execution_count": null,
      "metadata": {
        "colab": {
          "base_uri": "https://localhost:8080/"
        },
        "id": "h2ExsqkVkTTE",
        "outputId": "8ee7776a-3232-41a5-883d-15d2464299e0"
      },
      "outputs": [
        {
          "output_type": "stream",
          "name": "stdout",
          "text": [
            "0\n",
            "1\n",
            "2\n"
          ]
        }
      ],
      "source": [
        "for 변수 in range(0,3,1):\n",
        "    print(변수)\n",
        "\n",
        "\n"
      ]
    },
    {
      "cell_type": "code",
      "source": [
        "# 2. 리스트 이용,  한 줄로 표현 end()\n",
        "a = list(range(10,0, -1))\n",
        "b = list(range(1,10))\n",
        "for i in a:\n",
        "    print(i, end=',')"
      ],
      "metadata": {
        "colab": {
          "base_uri": "https://localhost:8080/"
        },
        "id": "ltJXD7XKoaBO",
        "outputId": "23a26d1d-fedc-49cb-f6c0-5057015b4b59"
      },
      "execution_count": null,
      "outputs": [
        {
          "output_type": "stream",
          "name": "stdout",
          "text": [
            "10,9,8,7,6,5,4,3,2,1,"
          ]
        }
      ]
    },
    {
      "cell_type": "code",
      "source": [
        "# 3. 문자열 이용\n",
        "for i in 'python':\n",
        "    print(i)"
      ],
      "metadata": {
        "colab": {
          "base_uri": "https://localhost:8080/"
        },
        "id": "duVy59B-qJ1Q",
        "outputId": "ef035459-0d94-4376-ad14-440771a9a72c"
      },
      "execution_count": null,
      "outputs": [
        {
          "output_type": "stream",
          "name": "stdout",
          "text": [
            "p\n",
            "y\n",
            "t\n",
            "h\n",
            "o\n",
            "n\n"
          ]
        }
      ]
    },
    {
      "cell_type": "code",
      "source": [
        "# 4. 변수 사용 안하고 반복만 할 때\n",
        "for _ in range(3):\n",
        "    print('좋은 아침!')"
      ],
      "metadata": {
        "colab": {
          "base_uri": "https://localhost:8080/"
        },
        "id": "bu3RO_oqqcc2",
        "outputId": "ecf5ec42-7081-45b4-8525-bc86d1a2c1e9"
      },
      "execution_count": null,
      "outputs": [
        {
          "output_type": "stream",
          "name": "stdout",
          "text": [
            "좋은 아침!\n",
            "좋은 아침!\n",
            "좋은 아침!\n"
          ]
        }
      ]
    },
    {
      "cell_type": "code",
      "source": [
        "# 5. 리스트와 같은 순서가 있는 자료형의 인덱스를 함께 사용\n",
        "fruits = ['사과', '포도', '딸기', '키위']\n",
        "\n",
        "# for idx, fruit, in enumerate(fruits):\n",
        "\n",
        "idx = 0\n",
        "for idx, fruit in enumerate(fruits):\n",
        "    print(idx, fruit)\n",
        "    idx = idx + 1\n",
        "\n",
        "for idx, fruit in enumerate(fruits):\n",
        "    print(idx, fruit)"
      ],
      "metadata": {
        "colab": {
          "base_uri": "https://localhost:8080/"
        },
        "id": "dxV96AoJq7F_",
        "outputId": "60d3a86e-0991-46be-bc4d-aaed718a112f"
      },
      "execution_count": null,
      "outputs": [
        {
          "output_type": "stream",
          "name": "stdout",
          "text": [
            "0 사과\n",
            "1 포도\n",
            "2 딸기\n",
            "3 키위\n"
          ]
        }
      ]
    },
    {
      "cell_type": "markdown",
      "source": [],
      "metadata": {
        "id": "RmgeW-EjoP-2"
      }
    },
    {
      "cell_type": "code",
      "source": [
        "# 컬랙션 자료형 특징 이용\n",
        "for a, b in [(1,2),(3,4),(5,6)]:\n",
        "    print(a, b)\n",
        "\n",
        "print('-'*30)\n",
        "dic = {1:'사과', 2:'포도'}\n",
        "\n",
        "for key in dic:\n",
        "    print(key, dic[key])\n",
        "\n",
        "for key, value in dic.items():\n",
        "    print(key, value)\n",
        "\n",
        "# 중복 배제 됨 -> 집합\n",
        "print('-'*30)\n",
        "for v in {1,2,3,4,5,3,4}:\n",
        "    print(v)"
      ],
      "metadata": {
        "colab": {
          "base_uri": "https://localhost:8080/"
        },
        "id": "HJDGiS_XseBP",
        "outputId": "bf17d8da-382c-4720-cea0-70ca01013d52"
      },
      "execution_count": null,
      "outputs": [
        {
          "output_type": "stream",
          "name": "stdout",
          "text": [
            "1 2\n",
            "3 4\n",
            "5 6\n",
            "------------------------------\n",
            "1 사과\n",
            "2 포도\n",
            "1 사과\n",
            "2 포도\n",
            "------------------------------\n",
            "1\n",
            "2\n",
            "3\n",
            "4\n",
            "5\n"
          ]
        }
      ]
    },
    {
      "cell_type": "code",
      "source": [
        "# 1~100 까지 짝수 제외하고 합\n",
        "\n",
        "n = int(input('1부터 ~ 까지합계를 구할 숫자:'))\n",
        "hap = 0\n",
        "for i in range(1,n+1, 2):\n",
        "       hap = hap + i\n",
        "print(f\"1~100 까지 짝수 제외하고 합: {sum}\")\n",
        "\n"
      ],
      "metadata": {
        "colab": {
          "base_uri": "https://localhost:8080/"
        },
        "id": "4wQRFYn1uQBR",
        "outputId": "569c12f4-258b-4c31-8563-82065bed2a38"
      },
      "execution_count": null,
      "outputs": [
        {
          "output_type": "stream",
          "name": "stdout",
          "text": [
            "1부터 ~ 까지합계를 구할 숫자:100\n",
            "1~100 까지 짝수 제외하고 합: 2\n"
          ]
        }
      ]
    },
    {
      "cell_type": "code",
      "source": [
        "hap = 0\n",
        "n = int(input('1부터 ~ 까지합계를 구할 숫자:'))\n",
        "hap = sum( [ i for i in range(1, n+1, 2) ] )\n",
        "print(f\"1~{n} 까지 짝수 제외하고 합: {hap}\")"
      ],
      "metadata": {
        "colab": {
          "base_uri": "https://localhost:8080/",
          "height": 222
        },
        "id": "L3ThraGqxlGY",
        "outputId": "d8b8d5bc-69c8-4d3a-d575-8d354f7006b3"
      },
      "execution_count": null,
      "outputs": [
        {
          "name": "stdout",
          "output_type": "stream",
          "text": [
            "1부터 ~ 까지합계를 구할 숫자:100\n"
          ]
        },
        {
          "output_type": "error",
          "ename": "TypeError",
          "evalue": "'int' object is not callable",
          "traceback": [
            "\u001b[0;31m---------------------------------------------------------------------------\u001b[0m",
            "\u001b[0;31mTypeError\u001b[0m                                 Traceback (most recent call last)",
            "\u001b[0;32m<ipython-input-38-c865161d2ee5>\u001b[0m in \u001b[0;36m<cell line: 3>\u001b[0;34m()\u001b[0m\n\u001b[1;32m      1\u001b[0m \u001b[0mhap\u001b[0m \u001b[0;34m=\u001b[0m \u001b[0;36m0\u001b[0m\u001b[0;34m\u001b[0m\u001b[0;34m\u001b[0m\u001b[0m\n\u001b[1;32m      2\u001b[0m \u001b[0mn\u001b[0m \u001b[0;34m=\u001b[0m \u001b[0mint\u001b[0m\u001b[0;34m(\u001b[0m\u001b[0minput\u001b[0m\u001b[0;34m(\u001b[0m\u001b[0;34m'1부터 ~ 까지합계를 구할 숫자:'\u001b[0m\u001b[0;34m)\u001b[0m\u001b[0;34m)\u001b[0m\u001b[0;34m\u001b[0m\u001b[0;34m\u001b[0m\u001b[0m\n\u001b[0;32m----> 3\u001b[0;31m \u001b[0mhap\u001b[0m \u001b[0;34m=\u001b[0m \u001b[0msum\u001b[0m\u001b[0;34m(\u001b[0m \u001b[0;34m[\u001b[0m \u001b[0mi\u001b[0m \u001b[0;32mfor\u001b[0m \u001b[0mi\u001b[0m \u001b[0;32min\u001b[0m \u001b[0mrange\u001b[0m\u001b[0;34m(\u001b[0m\u001b[0;36m1\u001b[0m\u001b[0;34m,\u001b[0m \u001b[0mn\u001b[0m\u001b[0;34m+\u001b[0m\u001b[0;36m1\u001b[0m\u001b[0;34m,\u001b[0m \u001b[0;36m2\u001b[0m\u001b[0;34m)\u001b[0m \u001b[0;34m]\u001b[0m \u001b[0;34m)\u001b[0m\u001b[0;34m\u001b[0m\u001b[0;34m\u001b[0m\u001b[0m\n\u001b[0m\u001b[1;32m      4\u001b[0m \u001b[0mprint\u001b[0m\u001b[0;34m(\u001b[0m\u001b[0;34mf\"1~{n} 까지 짝수 제외하고 합: {hap}\"\u001b[0m\u001b[0;34m)\u001b[0m\u001b[0;34m\u001b[0m\u001b[0;34m\u001b[0m\u001b[0m\n",
            "\u001b[0;31mTypeError\u001b[0m: 'int' object is not callable"
          ]
        }
      ]
    },
    {
      "cell_type": "markdown",
      "source": [
        "# 2. turtle은 iDLE  shell에서 실행가능함. colab에서 안됨"
      ],
      "metadata": {
        "id": "XfObUQ4Q2r_4"
      }
    },
    {
      "cell_type": "code",
      "source": [
        "import turtle\n",
        "\n",
        "t = turtle.Pen()\n",
        "\n",
        "t.pensize(5)\n",
        "t.color('blue')\n",
        "t.shape('turtle')\n",
        "\n",
        "for _ in range(5):\n",
        "    t.forward(100)\n",
        "    t.right(72)\n",
        "\n",
        "turtle.exitonclick()"
      ],
      "metadata": {
        "colab": {
          "base_uri": "https://localhost:8080/",
          "height": 375
        },
        "id": "ZIoKVyG61_CQ",
        "outputId": "9d188c18-e097-4cb7-c705-83c69afb7509"
      },
      "execution_count": 2,
      "outputs": [
        {
          "output_type": "error",
          "ename": "TclError",
          "evalue": "no display name and no $DISPLAY environment variable",
          "traceback": [
            "\u001b[0;31m---------------------------------------------------------------------------\u001b[0m",
            "\u001b[0;31mTclError\u001b[0m                                  Traceback (most recent call last)",
            "\u001b[0;32m<ipython-input-2-610ce742a057>\u001b[0m in \u001b[0;36m<cell line: 3>\u001b[0;34m()\u001b[0m\n\u001b[1;32m      1\u001b[0m \u001b[0;32mimport\u001b[0m \u001b[0mturtle\u001b[0m\u001b[0;34m\u001b[0m\u001b[0;34m\u001b[0m\u001b[0m\n\u001b[1;32m      2\u001b[0m \u001b[0;34m\u001b[0m\u001b[0m\n\u001b[0;32m----> 3\u001b[0;31m \u001b[0mt\u001b[0m \u001b[0;34m=\u001b[0m \u001b[0mturtle\u001b[0m\u001b[0;34m.\u001b[0m\u001b[0mPen\u001b[0m\u001b[0;34m(\u001b[0m\u001b[0;34m)\u001b[0m\u001b[0;34m\u001b[0m\u001b[0;34m\u001b[0m\u001b[0m\n\u001b[0m\u001b[1;32m      4\u001b[0m \u001b[0;34m\u001b[0m\u001b[0m\n\u001b[1;32m      5\u001b[0m \u001b[0mt\u001b[0m\u001b[0;34m.\u001b[0m\u001b[0mpensize\u001b[0m\u001b[0;34m(\u001b[0m\u001b[0;36m5\u001b[0m\u001b[0;34m)\u001b[0m\u001b[0;34m\u001b[0m\u001b[0;34m\u001b[0m\u001b[0m\n",
            "\u001b[0;32m/usr/lib/python3.10/turtle.py\u001b[0m in \u001b[0;36m__init__\u001b[0;34m(self, shape, undobuffersize, visible)\u001b[0m\n\u001b[1;32m   3812\u001b[0m                  visible=_CFG[\"visible\"]):\n\u001b[1;32m   3813\u001b[0m         \u001b[0;32mif\u001b[0m \u001b[0mTurtle\u001b[0m\u001b[0;34m.\u001b[0m\u001b[0m_screen\u001b[0m \u001b[0;32mis\u001b[0m \u001b[0;32mNone\u001b[0m\u001b[0;34m:\u001b[0m\u001b[0;34m\u001b[0m\u001b[0;34m\u001b[0m\u001b[0m\n\u001b[0;32m-> 3814\u001b[0;31m             \u001b[0mTurtle\u001b[0m\u001b[0;34m.\u001b[0m\u001b[0m_screen\u001b[0m \u001b[0;34m=\u001b[0m \u001b[0mScreen\u001b[0m\u001b[0;34m(\u001b[0m\u001b[0;34m)\u001b[0m\u001b[0;34m\u001b[0m\u001b[0;34m\u001b[0m\u001b[0m\n\u001b[0m\u001b[1;32m   3815\u001b[0m         RawTurtle.__init__(self, Turtle._screen,\n\u001b[1;32m   3816\u001b[0m                            \u001b[0mshape\u001b[0m\u001b[0;34m=\u001b[0m\u001b[0mshape\u001b[0m\u001b[0;34m,\u001b[0m\u001b[0;34m\u001b[0m\u001b[0;34m\u001b[0m\u001b[0m\n",
            "\u001b[0;32m/usr/lib/python3.10/turtle.py\u001b[0m in \u001b[0;36mScreen\u001b[0;34m()\u001b[0m\n\u001b[1;32m   3662\u001b[0m     else return the existing one.\"\"\"\n\u001b[1;32m   3663\u001b[0m     \u001b[0;32mif\u001b[0m \u001b[0mTurtle\u001b[0m\u001b[0;34m.\u001b[0m\u001b[0m_screen\u001b[0m \u001b[0;32mis\u001b[0m \u001b[0;32mNone\u001b[0m\u001b[0;34m:\u001b[0m\u001b[0;34m\u001b[0m\u001b[0;34m\u001b[0m\u001b[0m\n\u001b[0;32m-> 3664\u001b[0;31m         \u001b[0mTurtle\u001b[0m\u001b[0;34m.\u001b[0m\u001b[0m_screen\u001b[0m \u001b[0;34m=\u001b[0m \u001b[0m_Screen\u001b[0m\u001b[0;34m(\u001b[0m\u001b[0;34m)\u001b[0m\u001b[0;34m\u001b[0m\u001b[0;34m\u001b[0m\u001b[0m\n\u001b[0m\u001b[1;32m   3665\u001b[0m     \u001b[0;32mreturn\u001b[0m \u001b[0mTurtle\u001b[0m\u001b[0;34m.\u001b[0m\u001b[0m_screen\u001b[0m\u001b[0;34m\u001b[0m\u001b[0;34m\u001b[0m\u001b[0m\n\u001b[1;32m   3666\u001b[0m \u001b[0;34m\u001b[0m\u001b[0m\n",
            "\u001b[0;32m/usr/lib/python3.10/turtle.py\u001b[0m in \u001b[0;36m__init__\u001b[0;34m(self)\u001b[0m\n\u001b[1;32m   3678\u001b[0m         \u001b[0;31m# preserved (perhaps by passing it as an optional parameter)\u001b[0m\u001b[0;34m\u001b[0m\u001b[0;34m\u001b[0m\u001b[0m\n\u001b[1;32m   3679\u001b[0m         \u001b[0;32mif\u001b[0m \u001b[0m_Screen\u001b[0m\u001b[0;34m.\u001b[0m\u001b[0m_root\u001b[0m \u001b[0;32mis\u001b[0m \u001b[0;32mNone\u001b[0m\u001b[0;34m:\u001b[0m\u001b[0;34m\u001b[0m\u001b[0;34m\u001b[0m\u001b[0m\n\u001b[0;32m-> 3680\u001b[0;31m             \u001b[0m_Screen\u001b[0m\u001b[0;34m.\u001b[0m\u001b[0m_root\u001b[0m \u001b[0;34m=\u001b[0m \u001b[0mself\u001b[0m\u001b[0;34m.\u001b[0m\u001b[0m_root\u001b[0m \u001b[0;34m=\u001b[0m \u001b[0m_Root\u001b[0m\u001b[0;34m(\u001b[0m\u001b[0;34m)\u001b[0m\u001b[0;34m\u001b[0m\u001b[0;34m\u001b[0m\u001b[0m\n\u001b[0m\u001b[1;32m   3681\u001b[0m             \u001b[0mself\u001b[0m\u001b[0;34m.\u001b[0m\u001b[0m_root\u001b[0m\u001b[0;34m.\u001b[0m\u001b[0mtitle\u001b[0m\u001b[0;34m(\u001b[0m\u001b[0m_Screen\u001b[0m\u001b[0;34m.\u001b[0m\u001b[0m_title\u001b[0m\u001b[0;34m)\u001b[0m\u001b[0;34m\u001b[0m\u001b[0;34m\u001b[0m\u001b[0m\n\u001b[1;32m   3682\u001b[0m             \u001b[0mself\u001b[0m\u001b[0;34m.\u001b[0m\u001b[0m_root\u001b[0m\u001b[0;34m.\u001b[0m\u001b[0mondestroy\u001b[0m\u001b[0;34m(\u001b[0m\u001b[0mself\u001b[0m\u001b[0;34m.\u001b[0m\u001b[0m_destroy\u001b[0m\u001b[0;34m)\u001b[0m\u001b[0;34m\u001b[0m\u001b[0;34m\u001b[0m\u001b[0m\n",
            "\u001b[0;32m/usr/lib/python3.10/turtle.py\u001b[0m in \u001b[0;36m__init__\u001b[0;34m(self)\u001b[0m\n\u001b[1;32m    433\u001b[0m     \u001b[0;34m\"\"\"Root class for Screen based on Tkinter.\"\"\"\u001b[0m\u001b[0;34m\u001b[0m\u001b[0;34m\u001b[0m\u001b[0m\n\u001b[1;32m    434\u001b[0m     \u001b[0;32mdef\u001b[0m \u001b[0m__init__\u001b[0m\u001b[0;34m(\u001b[0m\u001b[0mself\u001b[0m\u001b[0;34m)\u001b[0m\u001b[0;34m:\u001b[0m\u001b[0;34m\u001b[0m\u001b[0;34m\u001b[0m\u001b[0m\n\u001b[0;32m--> 435\u001b[0;31m         \u001b[0mTK\u001b[0m\u001b[0;34m.\u001b[0m\u001b[0mTk\u001b[0m\u001b[0;34m.\u001b[0m\u001b[0m__init__\u001b[0m\u001b[0;34m(\u001b[0m\u001b[0mself\u001b[0m\u001b[0;34m)\u001b[0m\u001b[0;34m\u001b[0m\u001b[0;34m\u001b[0m\u001b[0m\n\u001b[0m\u001b[1;32m    436\u001b[0m \u001b[0;34m\u001b[0m\u001b[0m\n\u001b[1;32m    437\u001b[0m     \u001b[0;32mdef\u001b[0m \u001b[0msetupcanvas\u001b[0m\u001b[0;34m(\u001b[0m\u001b[0mself\u001b[0m\u001b[0;34m,\u001b[0m \u001b[0mwidth\u001b[0m\u001b[0;34m,\u001b[0m \u001b[0mheight\u001b[0m\u001b[0;34m,\u001b[0m \u001b[0mcwidth\u001b[0m\u001b[0;34m,\u001b[0m \u001b[0mcheight\u001b[0m\u001b[0;34m)\u001b[0m\u001b[0;34m:\u001b[0m\u001b[0;34m\u001b[0m\u001b[0;34m\u001b[0m\u001b[0m\n",
            "\u001b[0;32m/usr/lib/python3.10/tkinter/__init__.py\u001b[0m in \u001b[0;36m__init__\u001b[0;34m(self, screenName, baseName, className, useTk, sync, use)\u001b[0m\n\u001b[1;32m   2297\u001b[0m                 \u001b[0mbaseName\u001b[0m \u001b[0;34m=\u001b[0m \u001b[0mbaseName\u001b[0m \u001b[0;34m+\u001b[0m \u001b[0mext\u001b[0m\u001b[0;34m\u001b[0m\u001b[0;34m\u001b[0m\u001b[0m\n\u001b[1;32m   2298\u001b[0m         \u001b[0minteractive\u001b[0m \u001b[0;34m=\u001b[0m \u001b[0;32mFalse\u001b[0m\u001b[0;34m\u001b[0m\u001b[0;34m\u001b[0m\u001b[0m\n\u001b[0;32m-> 2299\u001b[0;31m         \u001b[0mself\u001b[0m\u001b[0;34m.\u001b[0m\u001b[0mtk\u001b[0m \u001b[0;34m=\u001b[0m \u001b[0m_tkinter\u001b[0m\u001b[0;34m.\u001b[0m\u001b[0mcreate\u001b[0m\u001b[0;34m(\u001b[0m\u001b[0mscreenName\u001b[0m\u001b[0;34m,\u001b[0m \u001b[0mbaseName\u001b[0m\u001b[0;34m,\u001b[0m \u001b[0mclassName\u001b[0m\u001b[0;34m,\u001b[0m \u001b[0minteractive\u001b[0m\u001b[0;34m,\u001b[0m \u001b[0mwantobjects\u001b[0m\u001b[0;34m,\u001b[0m \u001b[0museTk\u001b[0m\u001b[0;34m,\u001b[0m \u001b[0msync\u001b[0m\u001b[0;34m,\u001b[0m \u001b[0muse\u001b[0m\u001b[0;34m)\u001b[0m\u001b[0;34m\u001b[0m\u001b[0;34m\u001b[0m\u001b[0m\n\u001b[0m\u001b[1;32m   2300\u001b[0m         \u001b[0;32mif\u001b[0m \u001b[0museTk\u001b[0m\u001b[0;34m:\u001b[0m\u001b[0;34m\u001b[0m\u001b[0;34m\u001b[0m\u001b[0m\n\u001b[1;32m   2301\u001b[0m             \u001b[0mself\u001b[0m\u001b[0;34m.\u001b[0m\u001b[0m_loadtk\u001b[0m\u001b[0;34m(\u001b[0m\u001b[0;34m)\u001b[0m\u001b[0;34m\u001b[0m\u001b[0;34m\u001b[0m\u001b[0m\n",
            "\u001b[0;31mTclError\u001b[0m: no display name and no $DISPLAY environment variable"
          ]
        }
      ]
    },
    {
      "cell_type": "code",
      "source": [
        "# a = list(range(1,101))\n",
        "# for i in a:\n",
        "#    print(i, end=' ')\n",
        "\n",
        "for i in range(1,101):    print(i, end=' ')\n"
      ],
      "metadata": {
        "colab": {
          "base_uri": "https://localhost:8080/"
        },
        "id": "aNSwz3ej8NOK",
        "outputId": "8116c12f-1340-4a18-a5c6-b7ae801d4037"
      },
      "execution_count": 6,
      "outputs": [
        {
          "output_type": "stream",
          "name": "stdout",
          "text": [
            "1 2 3 4 5 6 7 8 9 10 11 12 13 14 15 16 17 18 19 20 21 22 23 24 25 26 27 28 29 30 31 32 33 34 35 36 37 38 39 40 41 42 43 44 45 46 47 48 49 50 51 52 53 54 55 56 57 58 59 60 61 62 63 64 65 66 67 68 69 70 71 72 73 74 75 76 77 78 79 80 81 82 83 84 85 86 87 88 89 90 91 92 93 94 95 96 97 98 99 100 "
          ]
        }
      ]
    },
    {
      "cell_type": "code",
      "source": [
        "print(' '.join( [string(i) for i in range(1, 101) ] ) ):"
      ],
      "metadata": {
        "colab": {
          "base_uri": "https://localhost:8080/",
          "height": 111
        },
        "id": "qJKVIuov86Gx",
        "outputId": "c3077bd3-b875-4e15-b0a4-4e72335e10ab"
      },
      "execution_count": 9,
      "outputs": [
        {
          "output_type": "error",
          "ename": "SyntaxError",
          "evalue": "invalid syntax (<ipython-input-9-a67e331a1ea4>, line 1)",
          "traceback": [
            "\u001b[0;36m  File \u001b[0;32m\"<ipython-input-9-a67e331a1ea4>\"\u001b[0;36m, line \u001b[0;32m1\u001b[0m\n\u001b[0;31m    print(' '.join( [string(i) for i in range(1, 101) ] ) ):\u001b[0m\n\u001b[0m                                                           ^\u001b[0m\n\u001b[0;31mSyntaxError\u001b[0m\u001b[0;31m:\u001b[0m invalid syntax\n"
          ]
        }
      ]
    },
    {
      "cell_type": "code",
      "source": [
        "scores = [90, 25, 67, 45, 80]\n",
        "\n",
        "for idx, score in enumerate(scores):\n",
        "   if score >= 60:\n",
        "      print(f\"{idx+1}번 학생 {score}점 : 합격\")\n",
        "   else:\n",
        "     print(f\"{idx+1}번 학생 {score}점 : 불합격\")"
      ],
      "metadata": {
        "colab": {
          "base_uri": "https://localhost:8080/"
        },
        "id": "kQBKqo9P9czp",
        "outputId": "a4fb6d40-6dd0-49ed-a016-075da771b0a2"
      },
      "execution_count": 22,
      "outputs": [
        {
          "output_type": "stream",
          "name": "stdout",
          "text": [
            "1번 학생 90점 : 합격\n",
            "2번 학생 25점 : 불합격\n",
            "3번 학생 67점 : 합격\n",
            "4번 학생 45점 : 불합격\n",
            "5번 학생 80점 : 합격\n"
          ]
        }
      ]
    },
    {
      "cell_type": "code",
      "source": [
        "import random\n",
        "\n",
        "\n",
        "\n",
        "\n",
        "scores = [ random.randint(1, 101) for _ in range(5) ]\n",
        "# print(score)\n",
        "for idx, score in enumerate(scores):\n",
        "#   if score >= 60:\n",
        "#      print(f\"{idx+1}번 학생 {score}점 : 합격\")\n",
        "#   else:\n",
        "#     print(f\"{idx+1}번 학생 {score}점 : 불합격\")\n",
        "\n",
        "\n",
        "result = '합격' if score >= 60 else '불합격'\n",
        "print(f'{idx+1}번 학생 {score}점: {result} 입니다.')"
      ],
      "metadata": {
        "colab": {
          "base_uri": "https://localhost:8080/",
          "height": 111
        },
        "id": "IC9qWYHSAXaB",
        "outputId": "72a9e58e-4469-47e2-feba-d3335aa7c593"
      },
      "execution_count": 28,
      "outputs": [
        {
          "output_type": "error",
          "ename": "IndentationError",
          "evalue": "expected an indented block after 'for' statement on line 8 (<ipython-input-28-e49151db4e58>, line 15)",
          "traceback": [
            "\u001b[0;36m  File \u001b[0;32m\"<ipython-input-28-e49151db4e58>\"\u001b[0;36m, line \u001b[0;32m15\u001b[0m\n\u001b[0;31m    result: '합격' if score >= 60 else '불합격'\u001b[0m\n\u001b[0m    ^\u001b[0m\n\u001b[0;31mIndentationError\u001b[0m\u001b[0;31m:\u001b[0m expected an indented block after 'for' statement on line 8\n"
          ]
        }
      ]
    },
    {
      "cell_type": "code",
      "source": [
        "'''\n",
        "예)\n",
        "    )))()()((( => False\n",
        "    ()()()()()) => False\n",
        "    ()(())()()  => True\n",
        "    ))(())(( => False\n",
        "    ()(()))( => False\n",
        "    ((())()) => True\n",
        "'''\n",
        "p_list = list(input('판별할 괄호는: '))\n",
        "print(p_list)\n",
        "\n",
        "t = 0\n",
        "for p in p_list:\n",
        "    if p == '(':\n",
        "        t += 1\n",
        "    elif p == ')':\n",
        "        t -= 1\n",
        "    if t < 0:\n",
        "        break\n",
        "if t == 0:\n",
        "    print('결과: True')\n",
        "else:\n",
        "    print('결과: False')"
      ],
      "metadata": {
        "colab": {
          "base_uri": "https://localhost:8080/"
        },
        "id": "3SAh3WuwIVNq",
        "outputId": "d72dd15f-b9f7-4083-832b-8acb6c8193c8"
      },
      "execution_count": 36,
      "outputs": [
        {
          "output_type": "stream",
          "name": "stdout",
          "text": [
            "판별할 괄호는: (())))\n",
            "['(', '(', ')', ')', ')', ')']\n",
            "결과: False\n"
          ]
        }
      ]
    },
    {
      "cell_type": "markdown",
      "source": [
        "중첩 반복문"
      ],
      "metadata": {
        "id": "R7apxXY9HQDq"
      }
    },
    {
      "cell_type": "code",
      "source": [
        "for i in range(3):\n",
        "    print(f\"{i}------\")\n",
        "    for j in range(3):\n",
        "        print(f\"i:{i}, j:{j}\")"
      ],
      "metadata": {
        "colab": {
          "base_uri": "https://localhost:8080/"
        },
        "id": "3qefplFPHOsU",
        "outputId": "f9ccb2d2-c480-4073-d3e0-3901da2016cc"
      },
      "execution_count": 35,
      "outputs": [
        {
          "output_type": "stream",
          "name": "stdout",
          "text": [
            "0------\n",
            "i:0, j:0\n",
            "i:0, j:1\n",
            "i:0, j:2\n",
            "1------\n",
            "i:1, j:0\n",
            "i:1, j:1\n",
            "i:1, j:2\n",
            "2------\n",
            "i:2, j:0\n",
            "i:2, j:1\n",
            "i:2, j:2\n"
          ]
        }
      ]
    },
    {
      "cell_type": "code",
      "source": [
        "p_lists = [')))()()(((', '()()()()())','()(())()()',\n",
        "        '))(())((','()(()))(','((())())']\n",
        "\n",
        "for p_list in p_lists :\n",
        "    print(f\"괄호: {p_list} \")\n",
        "    t = 0\n",
        "    for p in p_list:\n",
        "        if p == '(':\n",
        "            t += 1\n",
        "        elif p == ')':\n",
        "            t -= 1\n",
        "        if t < 0:\n",
        "            break\n",
        "    if t == 0:\n",
        "        print('->결과: True')\n",
        "    else:\n",
        "        print('->결과: False')"
      ],
      "metadata": {
        "colab": {
          "base_uri": "https://localhost:8080/"
        },
        "id": "eKmLRwtUIWky",
        "outputId": "54eb940c-3157-4acc-d3a0-636be0bb7a6d"
      },
      "execution_count": 34,
      "outputs": [
        {
          "output_type": "stream",
          "name": "stdout",
          "text": [
            "괄호: )))()()((( \n",
            "->결과: False\n",
            "괄호: ()()()()()) \n",
            "->결과: False\n",
            "괄호: ()(())()() \n",
            "->결과: True\n",
            "괄호: ))(())(( \n",
            "->결과: False\n",
            "괄호: ()(()))( \n",
            "->결과: False\n",
            "괄호: ((())()) \n",
            "->결과: True\n"
          ]
        }
      ]
    },
    {
      "cell_type": "markdown",
      "source": [
        "# 5-2 WHILE 반복문"
      ],
      "metadata": {
        "id": "-HwCXqoJRmIs"
      }
    },
    {
      "cell_type": "code",
      "source": [
        "a = 0\n",
        "while a < 5:\n",
        "    print(f\"{a}은 5보다 작지 않군요\")\n",
        "    a += 1\n",
        "print(f\"{a}는 5와 같군요\")"
      ],
      "metadata": {
        "colab": {
          "base_uri": "https://localhost:8080/"
        },
        "id": "d7USo1TFRj59",
        "outputId": "374b5cdd-d1e4-47d8-800f-9dc5d2472e3f"
      },
      "execution_count": 38,
      "outputs": [
        {
          "output_type": "stream",
          "name": "stdout",
          "text": [
            "0은 5보다 작지 않군요\n",
            "1은 5보다 작지 않군요\n",
            "2은 5보다 작지 않군요\n",
            "3은 5보다 작지 않군요\n",
            "4은 5보다 작지 않군요\n",
            "5는 5와 같군요\n"
          ]
        }
      ]
    },
    {
      "cell_type": "code",
      "source": [
        "a = 0\n",
        "while True:\n",
        "    if a >= 5:\n",
        "        break\n",
        "    print(f\"{a}는 5보다 작군요\")\n",
        "    a += 1\n",
        "print(f\"{a}는 5와 같군요\")"
      ],
      "metadata": {
        "colab": {
          "base_uri": "https://localhost:8080/"
        },
        "id": "QhepacWjSU_M",
        "outputId": "6dae3e93-02ca-4ae9-e357-12290c76c5f2"
      },
      "execution_count": 39,
      "outputs": [
        {
          "output_type": "stream",
          "name": "stdout",
          "text": [
            "0는 5보다 작군요\n",
            "1는 5보다 작군요\n",
            "2는 5보다 작군요\n",
            "3는 5보다 작군요\n",
            "4는 5보다 작군요\n",
            "5는 5와 같군요\n"
          ]
        }
      ]
    },
    {
      "cell_type": "code",
      "source": [
        "treeHit = 1\n",
        "while True:\n",
        "    if treeHit >= 10:\n",
        "        break\n",
        "    print(f\"나무{treeHit}번 찍음. 안 넘어 감 ㅠㅠ\")\n",
        "    treeHit += 1\n",
        "print(f\"드디어 나무{treeHit}번 찍음. 나무가 넘어갔음\")"
      ],
      "metadata": {
        "colab": {
          "base_uri": "https://localhost:8080/"
        },
        "id": "Q1sOIXCVS6dz",
        "outputId": "7bfdfda9-8339-4e12-9a13-dd8544570786"
      },
      "execution_count": 43,
      "outputs": [
        {
          "output_type": "stream",
          "name": "stdout",
          "text": [
            "나무1번 찍음. 안 넘어 감 ㅠㅠ\n",
            "나무2번 찍음. 안 넘어 감 ㅠㅠ\n",
            "나무3번 찍음. 안 넘어 감 ㅠㅠ\n",
            "나무4번 찍음. 안 넘어 감 ㅠㅠ\n",
            "나무5번 찍음. 안 넘어 감 ㅠㅠ\n",
            "나무6번 찍음. 안 넘어 감 ㅠㅠ\n",
            "나무7번 찍음. 안 넘어 감 ㅠㅠ\n",
            "나무8번 찍음. 안 넘어 감 ㅠㅠ\n",
            "나무9번 찍음. 안 넘어 감 ㅠㅠ\n",
            "드디어 나무10번 찍음. 나무가 넘어갔음\n"
          ]
        }
      ]
    }
  ]
}