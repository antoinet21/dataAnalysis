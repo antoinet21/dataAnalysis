{
  "nbformat": 4,
  "nbformat_minor": 0,
  "metadata": {
    "colab": {
      "provenance": [],
      "collapsed_sections": [
        "ZzYPdVefop94"
      ],
      "authorship_tag": "ABX9TyMfuYvh0UDS9y8mOtJ+qEhd",
      "include_colab_link": true
    },
    "kernelspec": {
      "name": "python3",
      "display_name": "Python 3"
    },
    "language_info": {
      "name": "python"
    }
  },
  "cells": [
    {
      "cell_type": "markdown",
      "metadata": {
        "id": "view-in-github",
        "colab_type": "text"
      },
      "source": [
        "<a href=\"https://colab.research.google.com/github/antoinet21/dataAnalysis/blob/main/7%EC%9D%BC%EC%B0%A8_%ED%8C%8C%EC%9D%BC%EC%9E%85%EC%B6%9C%EB%A0%A5.ipynb\" target=\"_parent\"><img src=\"https://colab.research.google.com/assets/colab-badge.svg\" alt=\"Open In Colab\"/></a>"
      ]
    },
    {
      "cell_type": "code",
      "execution_count": null,
      "metadata": {
        "id": "ZFsg9PQKkzGK"
      },
      "outputs": [],
      "source": []
    },
    {
      "cell_type": "markdown",
      "source": [],
      "metadata": {
        "id": "QQJWZ9g1_MVT"
      }
    },
    {
      "cell_type": "code",
      "source": [],
      "metadata": {
        "id": "QFEYmVAX_MnC"
      },
      "execution_count": null,
      "outputs": []
    },
    {
      "cell_type": "code",
      "source": [],
      "metadata": {
        "id": "Yu3LLgdd_N3C"
      },
      "execution_count": null,
      "outputs": []
    },
    {
      "cell_type": "markdown",
      "source": [
        "## 6. 파일 입출력"
      ],
      "metadata": {
        "id": "GVE-I5p0l6on"
      }
    },
    {
      "cell_type": "code",
      "source": [
        "# writedata.py\n",
        "f = open(\"./새파일.txt\", 'w')\n",
        "for i in range(1,11):\n",
        "      f.write(f\"{i:>2} 번째 줄입니다.\\n\")\n",
        "f.close()"
      ],
      "metadata": {
        "id": "IdMpo4Wxl_rg"
      },
      "execution_count": null,
      "outputs": []
    },
    {
      "cell_type": "markdown",
      "source": [
        "# *   readline()\n",
        "*   readlines() : 리스트 형태\n",
        "*   read() : 파일 통째로 읽어옴\n",
        "\n",
        "\n",
        "\n"
      ],
      "metadata": {
        "id": "ZzYPdVefop94"
      }
    },
    {
      "cell_type": "code",
      "source": [
        "f = open(\"./새파일.txt\", 'r')\n",
        "line = f.readline()\n",
        "print(line)\n",
        "\n",
        "while True:\n",
        "    line = f.readline()\n",
        "    if not line:\n",
        "        break\n",
        "    print(line.strip())\n",
        "f.close()"
      ],
      "metadata": {
        "colab": {
          "base_uri": "https://localhost:8080/"
        },
        "id": "6yFXvTkZoNZI",
        "outputId": "601c4f0b-4f6d-45a0-8bfc-fe88b75cd851"
      },
      "execution_count": null,
      "outputs": [
        {
          "output_type": "stream",
          "name": "stdout",
          "text": [
            " 1 번째 줄입니다.\n",
            "\n",
            "2 번째 줄입니다.\n",
            "3 번째 줄입니다.\n",
            "4 번째 줄입니다.\n",
            "5 번째 줄입니다.\n",
            "6 번째 줄입니다.\n",
            "7 번째 줄입니다.\n",
            "8 번째 줄입니다.\n",
            "9 번째 줄입니다.\n",
            "10 번째 줄입니다.\n"
          ]
        }
      ]
    },
    {
      "cell_type": "code",
      "source": [
        "f = open(\"./새파일.txt\", 'r')\n",
        "for line in f.readlines():\n",
        "    print(line.strip())\n",
        "f.close()"
      ],
      "metadata": {
        "colab": {
          "base_uri": "https://localhost:8080/"
        },
        "id": "fmV7tq6cp1Ax",
        "outputId": "cb4853a5-fd84-46cf-a4f1-0fcc667ef89c"
      },
      "execution_count": null,
      "outputs": [
        {
          "output_type": "stream",
          "name": "stdout",
          "text": [
            "1 번째 줄입니다.\n",
            "2 번째 줄입니다.\n",
            "3 번째 줄입니다.\n",
            "4 번째 줄입니다.\n",
            "5 번째 줄입니다.\n",
            "6 번째 줄입니다.\n",
            "7 번째 줄입니다.\n",
            "8 번째 줄입니다.\n",
            "9 번째 줄입니다.\n",
            "10 번째 줄입니다.\n"
          ]
        }
      ]
    },
    {
      "cell_type": "code",
      "source": [
        "f = open(\"./새파일.txt\", 'r')\n",
        "data = f.read()\n",
        "print(data)\n",
        "f.close()"
      ],
      "metadata": {
        "colab": {
          "base_uri": "https://localhost:8080/"
        },
        "id": "As6dK3Ohqg56",
        "outputId": "1e99d131-8c54-4c94-ef78-81e270a59a94"
      },
      "execution_count": null,
      "outputs": [
        {
          "output_type": "stream",
          "name": "stdout",
          "text": [
            " 1 번째 줄입니다.\n",
            " 2 번째 줄입니다.\n",
            " 3 번째 줄입니다.\n",
            " 4 번째 줄입니다.\n",
            " 5 번째 줄입니다.\n",
            " 6 번째 줄입니다.\n",
            " 7 번째 줄입니다.\n",
            " 8 번째 줄입니다.\n",
            " 9 번째 줄입니다.\n",
            "10 번째 줄입니다.\n",
            "\n"
          ]
        }
      ]
    },
    {
      "cell_type": "markdown",
      "source": [
        "# WITH 문 벗어나면 자동으로 파일 객체를 닫는다"
      ],
      "metadata": {
        "id": "dSn6CcpGrqPQ"
      }
    },
    {
      "cell_type": "code",
      "source": [
        "# f = open(\"./새파일.txt\", 'r')\n",
        "# for line in f.readlines():\n",
        "#     print(line.strip())\n",
        "# f.close()\n",
        "\n",
        "with open(\"./새파일.txt\", 'r') as f:\n",
        "    data = f.read()\n",
        "    print(type(data))\n",
        "    data = data.replace('줄', '사람')\n",
        "    print(data)"
      ],
      "metadata": {
        "colab": {
          "base_uri": "https://localhost:8080/"
        },
        "id": "OlqOAgS6rwpM",
        "outputId": "be124b15-08ec-496d-be36-16cc257d2461"
      },
      "execution_count": null,
      "outputs": [
        {
          "output_type": "stream",
          "name": "stdout",
          "text": [
            "<class 'str'>\n",
            " 1 번째 사람입니다.\n",
            " 2 번째 사람입니다.\n",
            " 3 번째 사람입니다.\n",
            " 4 번째 사람입니다.\n",
            " 5 번째 사람입니다.\n",
            " 6 번째 사람입니다.\n",
            " 7 번째 사람입니다.\n",
            " 8 번째 사람입니다.\n",
            " 9 번째 사람입니다.\n",
            "10 번째 사람입니다.\n",
            "\n"
          ]
        }
      ]
    },
    {
      "cell_type": "markdown",
      "source": [
        "### os 모듈 : 디렉토리 & 파일 관련 함수"
      ],
      "metadata": {
        "id": "uNORqpD6s6jK"
      }
    },
    {
      "cell_type": "code",
      "source": [
        "import os\n",
        "print(f\"현재위치: {os.getcwd()}\")\n",
        "print(f\"현재위치 파일/폴더 목록: {os.listdir()}\")\n",
        "# os.chdir('../')\n",
        "print(f\"현재위치 파일/폴더 목록: {os.listdir()}\")\n"
      ],
      "metadata": {
        "colab": {
          "base_uri": "https://localhost:8080/"
        },
        "id": "7I8tEEXVs_uo",
        "outputId": "d78ca87c-7013-4902-9ca2-17ffbb55d54d"
      },
      "execution_count": null,
      "outputs": [
        {
          "output_type": "stream",
          "name": "stdout",
          "text": [
            "현재위치: /content\n",
            "현재위치 파일/폴더 목록: ['.config', '새파일.txt', 'sample_data']\n",
            "현재위치 파일/폴더 목록: ['srv', 'sys', 'mnt', 'dev', 'proc', 'lib32', 'lib64', 'home', 'libx32', 'var', 'root', 'run', 'sbin', 'tmp', 'usr', 'boot', 'bin', 'lib', 'media', 'etc', 'opt', 'content', 'kaggle', '.dockerenv', 'datalab', 'tools', 'NGC-DL-CONTAINER-LICENSE', 'cuda-keyring_1.0-1_all.deb']\n"
          ]
        }
      ]
    },
    {
      "cell_type": "code",
      "source": [
        "os.chdir('/content/')\n",
        "\n"
      ],
      "metadata": {
        "id": "4NTVlGM2uISW"
      },
      "execution_count": null,
      "outputs": []
    },
    {
      "cell_type": "code",
      "source": [
        "print(f\"현재위치: {os.getcwd()}\")\n",
        "print(f\"현재위치 파일/폴더 목록: {os.listdir()}\")"
      ],
      "metadata": {
        "colab": {
          "base_uri": "https://localhost:8080/"
        },
        "id": "IG_3nk2RuUUp",
        "outputId": "811dc33f-3cd1-49db-b575-94b45bef5ed7"
      },
      "execution_count": null,
      "outputs": [
        {
          "output_type": "stream",
          "name": "stdout",
          "text": [
            "현재위치: /content\n",
            "현재위치 파일/폴더 목록: ['.config', '새파일.txt', 'sample_data']\n"
          ]
        }
      ]
    },
    {
      "cell_type": "markdown",
      "source": [
        "# os.remove() : 파일 삭제\n",
        "\n",
        "\n"
      ],
      "metadata": {
        "id": "lCx9fX84ulFy"
      }
    },
    {
      "cell_type": "code",
      "source": [
        "import os\n",
        "file = '새파일.txt'\n",
        "if os.path.isfile(file):\n",
        "    os.remove(file)\n",
        "    print(f\"{file} 파일이 삭제되었습니다.\")\n",
        "else:\n",
        "    print(f\"{file} 파일이 존재하지 않습니다.\")"
      ],
      "metadata": {
        "colab": {
          "base_uri": "https://localhost:8080/"
        },
        "id": "UmCZmPCsuqzJ",
        "outputId": "645676d9-12fe-4171-e7c3-eab0d24ef6e7"
      },
      "execution_count": null,
      "outputs": [
        {
          "output_type": "stream",
          "name": "stdout",
          "text": [
            "새파일.txt 파일이 존재하지 않습니다.\n"
          ]
        }
      ]
    },
    {
      "cell_type": "markdown",
      "source": [
        "# 실습"
      ],
      "metadata": {
        "id": "eBarmG8yv3VJ"
      }
    },
    {
      "cell_type": "code",
      "source": [
        "import os\n",
        "import random\n",
        "\n",
        "\n",
        "f = open(\"./sample.txt\", 'w')\n",
        "for _ in (range(10)):\n",
        "    n = str(random.randint(1,100)) # 파일 쓰기시에, 문자열로 사용 가능\n",
        "    f.write(n+'\\n')\n",
        "f.close()\n",
        "\n",
        "f = open(\"./sample.txt\", 'r')\n",
        "data = f.read()\n",
        "print(data)\n",
        "f.close()"
      ],
      "metadata": {
        "colab": {
          "base_uri": "https://localhost:8080/"
        },
        "id": "RapN5h0Uv9Hr",
        "outputId": "02a7a235-1b8b-4f47-f115-f2d6c83630ce"
      },
      "execution_count": null,
      "outputs": [
        {
          "output_type": "stream",
          "name": "stdout",
          "text": [
            "39\n",
            "47\n",
            "94\n",
            "3\n",
            "45\n",
            "38\n",
            "24\n",
            "27\n",
            "4\n",
            "92\n",
            "\n"
          ]
        }
      ]
    },
    {
      "cell_type": "code",
      "source": [
        "import os\n",
        "import random\n",
        "\n",
        "\n",
        "with open(\"./sample.txt\", 'r') as f:\n",
        "    data = [ int(line) for line in f.readlines() ]\n",
        "    print(data)\n",
        "    hap = sum(data)\n",
        "    avg = hap / len(data)\n",
        "    content = f\"{data}\\n총합은 {hap} 입니다.\\n 평균은 {avg} 입니다.\"\n",
        "    print(content)\n",
        "\n",
        "with open('./result.txt', 'w') as f:\n",
        "    f.write(content)"
      ],
      "metadata": {
        "colab": {
          "base_uri": "https://localhost:8080/"
        },
        "id": "Fjb_XPpryy97",
        "outputId": "d193b1c6-7626-4c99-bc13-3d12f300e76f"
      },
      "execution_count": null,
      "outputs": [
        {
          "output_type": "stream",
          "name": "stdout",
          "text": [
            "[39, 47, 94, 3, 45, 38, 24, 27, 4, 92]\n",
            "[39, 47, 94, 3, 45, 38, 24, 27, 4, 92]\n",
            "총합은 413 입니다.\n",
            " 평균은 41.3 입니다.\n"
          ]
        }
      ]
    },
    {
      "cell_type": "code",
      "source": [
        "with open('./sample.txt', 'r') as f:\n",
        "    data = [ int(line) for line in f.readlines() ]\n",
        "    hap = sum(data)\n",
        "    avg = hap / len(data)\n",
        "    content = f\"{data}\\n총합은 {hap} 입니다.\\n평균은 {avg} 입니다.\"\n",
        "    print(content)\n",
        "\n",
        "with open('./result.txt', 'w') as f:\n",
        "    f.write(content)"
      ],
      "metadata": {
        "id": "69JbUEE61yf0"
      },
      "execution_count": null,
      "outputs": []
    },
    {
      "cell_type": "markdown",
      "source": [],
      "metadata": {
        "id": "n6TjjzLu_QXC"
      }
    },
    {
      "cell_type": "code",
      "source": [
        "data1 = list() # 인스턴스\n",
        "data2 = list() # 인스턴스\n",
        "print(type(data))\n",
        "\n",
        "# help(list)\n",
        "data1.append(100)\n",
        "data2.append(200)\n"
      ],
      "metadata": {
        "colab": {
          "base_uri": "https://localhost:8080/"
        },
        "id": "auflEdan_Q36",
        "outputId": "6abd9cfc-c23e-4935-ded8-be352986e0a4"
      },
      "execution_count": 55,
      "outputs": [
        {
          "output_type": "stream",
          "name": "stdout",
          "text": [
            "<class 'list'>\n"
          ]
        }
      ]
    },
    {
      "cell_type": "markdown",
      "source": [
        "# 클래스"
      ],
      "metadata": {
        "id": "Z7R0rhgfDDTW"
      }
    },
    {
      "cell_type": "code",
      "source": [
        "class character\n"
      ],
      "metadata": {
        "id": "TCFXe3grDDp7"
      },
      "execution_count": null,
      "outputs": []
    }
  ]
}