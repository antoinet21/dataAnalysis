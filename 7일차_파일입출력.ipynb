{
  "nbformat": 4,
  "nbformat_minor": 0,
  "metadata": {
    "colab": {
      "provenance": [],
      "authorship_tag": "ABX9TyMj+8/hL3VBF4bvSb0EZYbE",
      "include_colab_link": true
    },
    "kernelspec": {
      "name": "python3",
      "display_name": "Python 3"
    },
    "language_info": {
      "name": "python"
    }
  },
  "cells": [
    {
      "cell_type": "markdown",
      "metadata": {
        "id": "view-in-github",
        "colab_type": "text"
      },
      "source": [
        "<a href=\"https://colab.research.google.com/github/antoinet21/dataAnalysis/blob/main/7%EC%9D%BC%EC%B0%A8_%ED%8C%8C%EC%9D%BC%EC%9E%85%EC%B6%9C%EB%A0%A5.ipynb\" target=\"_parent\"><img src=\"https://colab.research.google.com/assets/colab-badge.svg\" alt=\"Open In Colab\"/></a>"
      ]
    },
    {
      "cell_type": "code",
      "execution_count": null,
      "metadata": {
        "id": "ZFsg9PQKkzGK"
      },
      "outputs": [],
      "source": []
    },
    {
      "cell_type": "markdown",
      "source": [
        "## 6. 파일 입출력"
      ],
      "metadata": {
        "id": "GVE-I5p0l6on"
      }
    },
    {
      "cell_type": "code",
      "source": [
        "# writedata.py\n",
        "f = open(\"./새파일.txt\", 'w')\n",
        "for i in range(1,11):\n",
        "      f.write(f\"{i:>2} 번째 줄입니다.\\n\")\n",
        "f.close()"
      ],
      "metadata": {
        "id": "IdMpo4Wxl_rg"
      },
      "execution_count": 4,
      "outputs": []
    },
    {
      "cell_type": "markdown",
      "source": [
        "# ▶readline()\n",
        "# ▶readlines() : 리스트 형태\n",
        "# ▶read() : 파일 통째로 읽어옴"
      ],
      "metadata": {
        "id": "ZzYPdVefop94"
      }
    },
    {
      "cell_type": "code",
      "source": [
        "f = open(\"./새파일.txt\", 'r')\n",
        "line = f.readline()\n",
        "print(line)\n",
        "\n",
        "while True:\n",
        "    line = f.readline()\n",
        "    if not line:\n",
        "        break\n",
        "    print(line.strip())\n",
        "f.close()"
      ],
      "metadata": {
        "colab": {
          "base_uri": "https://localhost:8080/"
        },
        "id": "6yFXvTkZoNZI",
        "outputId": "601c4f0b-4f6d-45a0-8bfc-fe88b75cd851"
      },
      "execution_count": 9,
      "outputs": [
        {
          "output_type": "stream",
          "name": "stdout",
          "text": [
            " 1 번째 줄입니다.\n",
            "\n",
            "2 번째 줄입니다.\n",
            "3 번째 줄입니다.\n",
            "4 번째 줄입니다.\n",
            "5 번째 줄입니다.\n",
            "6 번째 줄입니다.\n",
            "7 번째 줄입니다.\n",
            "8 번째 줄입니다.\n",
            "9 번째 줄입니다.\n",
            "10 번째 줄입니다.\n"
          ]
        }
      ]
    },
    {
      "cell_type": "code",
      "source": [
        "f = open(\"./새파일.txt\", 'r')\n",
        "for line in f.readlines():\n",
        "    print(line.strip())\n",
        "f.close()"
      ],
      "metadata": {
        "colab": {
          "base_uri": "https://localhost:8080/"
        },
        "id": "fmV7tq6cp1Ax",
        "outputId": "cb4853a5-fd84-46cf-a4f1-0fcc667ef89c"
      },
      "execution_count": 22,
      "outputs": [
        {
          "output_type": "stream",
          "name": "stdout",
          "text": [
            "1 번째 줄입니다.\n",
            "2 번째 줄입니다.\n",
            "3 번째 줄입니다.\n",
            "4 번째 줄입니다.\n",
            "5 번째 줄입니다.\n",
            "6 번째 줄입니다.\n",
            "7 번째 줄입니다.\n",
            "8 번째 줄입니다.\n",
            "9 번째 줄입니다.\n",
            "10 번째 줄입니다.\n"
          ]
        }
      ]
    },
    {
      "cell_type": "code",
      "source": [
        "f = open(\"./새파일.txt\", 'r')\n",
        "data = f.read()\n",
        "print(data)\n",
        "f.close()"
      ],
      "metadata": {
        "colab": {
          "base_uri": "https://localhost:8080/"
        },
        "id": "As6dK3Ohqg56",
        "outputId": "1e99d131-8c54-4c94-ef78-81e270a59a94"
      },
      "execution_count": 18,
      "outputs": [
        {
          "output_type": "stream",
          "name": "stdout",
          "text": [
            " 1 번째 줄입니다.\n",
            " 2 번째 줄입니다.\n",
            " 3 번째 줄입니다.\n",
            " 4 번째 줄입니다.\n",
            " 5 번째 줄입니다.\n",
            " 6 번째 줄입니다.\n",
            " 7 번째 줄입니다.\n",
            " 8 번째 줄입니다.\n",
            " 9 번째 줄입니다.\n",
            "10 번째 줄입니다.\n",
            "\n"
          ]
        }
      ]
    },
    {
      "cell_type": "markdown",
      "source": [
        "# WITH 문 벗어나면 자동으로 파일 객체를 닫는다"
      ],
      "metadata": {
        "id": "dSn6CcpGrqPQ"
      }
    },
    {
      "cell_type": "code",
      "source": [
        "# f = open(\"./새파일.txt\", 'r')\n",
        "# for line in f.readlines():\n",
        "#     print(line.strip())\n",
        "# f.close()\n",
        "\n",
        "with open(\"./새파일.txt\", 'r') as f:\n",
        "    data = f.read()\n",
        "    print(type(data))\n",
        "    data = data.replace('줄', '사람')\n",
        "    print(data)"
      ],
      "metadata": {
        "colab": {
          "base_uri": "https://localhost:8080/"
        },
        "id": "OlqOAgS6rwpM",
        "outputId": "be124b15-08ec-496d-be36-16cc257d2461"
      },
      "execution_count": 27,
      "outputs": [
        {
          "output_type": "stream",
          "name": "stdout",
          "text": [
            "<class 'str'>\n",
            " 1 번째 사람입니다.\n",
            " 2 번째 사람입니다.\n",
            " 3 번째 사람입니다.\n",
            " 4 번째 사람입니다.\n",
            " 5 번째 사람입니다.\n",
            " 6 번째 사람입니다.\n",
            " 7 번째 사람입니다.\n",
            " 8 번째 사람입니다.\n",
            " 9 번째 사람입니다.\n",
            "10 번째 사람입니다.\n",
            "\n"
          ]
        }
      ]
    },
    {
      "cell_type": "markdown",
      "source": [
        "### os 모듈 : 디렉토리 & 파일 관련 함수"
      ],
      "metadata": {
        "id": "uNORqpD6s6jK"
      }
    },
    {
      "cell_type": "code",
      "source": [
        "import os\n",
        "print(f\"현재위치: {os.getcwd()}\")\n",
        "print(f\"현재위치 파일/폴더 목록: {os.listdir()}\")\n"
      ],
      "metadata": {
        "colab": {
          "base_uri": "https://localhost:8080/"
        },
        "id": "7I8tEEXVs_uo",
        "outputId": "12255d73-2ab7-432b-b402-47cc91c988d6"
      },
      "execution_count": 28,
      "outputs": [
        {
          "output_type": "stream",
          "name": "stdout",
          "text": [
            "현재위치: /content\n",
            "현재위치 파일/폴더 목록: ['.config', '새파일.txt', 'sample_data']\n"
          ]
        }
      ]
    }
  ]
}