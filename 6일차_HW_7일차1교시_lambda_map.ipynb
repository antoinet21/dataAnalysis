{
  "nbformat": 4,
  "nbformat_minor": 0,
  "metadata": {
    "colab": {
      "provenance": [],
      "authorship_tag": "ABX9TyMB8O2vZSD0lY652vyHavK2",
      "include_colab_link": true
    },
    "kernelspec": {
      "name": "python3",
      "display_name": "Python 3"
    },
    "language_info": {
      "name": "python"
    }
  },
  "cells": [
    {
      "cell_type": "markdown",
      "metadata": {
        "id": "view-in-github",
        "colab_type": "text"
      },
      "source": [
        "<a href=\"https://colab.research.google.com/github/antoinet21/dataAnalysis/blob/main/6%EC%9D%BC%EC%B0%A8_HW_7%EC%9D%BC%EC%B0%A81%EA%B5%90%EC%8B%9C_lambda_map.ipynb\" target=\"_parent\"><img src=\"https://colab.research.google.com/assets/colab-badge.svg\" alt=\"Open In Colab\"/></a>"
      ]
    },
    {
      "cell_type": "markdown",
      "source": [
        "# 5-1 함수 정의\n",
        "# 암스트롱 수 출력하기 (p.168)"
      ],
      "metadata": {
        "id": "pF2JEeA8Tp03"
      }
    },
    {
      "cell_type": "code",
      "source": [
        "def is_armstrongNumber(n):\n",
        "    _1, _2, _3 = int(str(n)[0]), int(str(n)[1]), int(str(n)[2])\n",
        "    if _1**3+_2**3+_3**3 == n:\n",
        "        return True\n",
        "    else:\n",
        "        return False\n",
        "\n",
        "for n in range(100, 1000):\n",
        "    if is_armstrongNumber(n):\n",
        "        print(f\"[{n}] is armstrong number\")\n"
      ],
      "metadata": {
        "colab": {
          "base_uri": "https://localhost:8080/"
        },
        "id": "R2bTYzgHT1Qo",
        "outputId": "70861beb-774f-4abe-8a95-461db68c7a9c"
      },
      "execution_count": null,
      "outputs": [
        {
          "output_type": "stream",
          "name": "stdout",
          "text": [
            "[153] is armstrong number\n",
            "[370] is armstrong number\n",
            "[371] is armstrong number\n",
            "[407] is armstrong number\n"
          ]
        }
      ]
    },
    {
      "cell_type": "code",
      "source": [
        "def is_armstrongNumber(N):\n",
        "    strNum = str(N)\n",
        "    sumNum = 0\n",
        "    for n in strNum:\n",
        "        sumNum += int(n)**3\n",
        "    return N == sumNum\n",
        "\n",
        "for i in range(100,1000):\n",
        "    if is_armstrongNumber(i):\n",
        "        print(f\"[{i}] is armstrong number.\")"
      ],
      "metadata": {
        "colab": {
          "base_uri": "https://localhost:8080/"
        },
        "id": "euWfCmbNW8hH",
        "outputId": "7cf7eac2-f327-4520-93f5-3aeb3f895ffa"
      },
      "execution_count": null,
      "outputs": [
        {
          "output_type": "stream",
          "name": "stdout",
          "text": [
            "[153] is armstrong number.\n",
            "[370] is armstrong number.\n",
            "[371] is armstrong number.\n",
            "[407] is armstrong number.\n"
          ]
        }
      ]
    },
    {
      "cell_type": "markdown",
      "source": [
        "# 커피 머신 함수"
      ],
      "metadata": {
        "id": "py33wjfHXQzm"
      }
    },
    {
      "cell_type": "code",
      "source": [
        "def coffeemachine()\n",
        "\n",
        "menu = '''[커피 주문 머신 메뉴]\n",
        "-----------------------------\n",
        "- 아메리카노: 2500원\n",
        "- 카페라테:   3000원\n",
        "- 카페모카:   3000원\n",
        "-----------------------------\n",
        "원하시는 커피종류와 잔수를 입력하세요.'''\n",
        "print(menu)\n",
        "coffee1 = int(input('아메리카노 몇잔: '))\n",
        "coffee2 = int(input('카페라테   몇잔: '))\n",
        "coffee3 = int(input('카페모카   몇잔: '))\n",
        "\n",
        "\n",
        "total = 2500*coffee1 + 3000*coffee2 + 3000*coffee3\n",
        "print(f\"지불하실 총 금액은 {total:,}원 입니다.\")\n",
        "\n",
        "while True:\n",
        "    print('------------------------')\n",
        "    money = int(input('돈을 넣어 주세요: '))\n",
        "    change = money - total   # 거스름돈\n",
        "    if change < 0:\n",
        "        print(f\"돈이 부족합니다. {abs(change):,}원을 더 넣어주세요.\")\n",
        "        total = total - money\n",
        "    else:\n",
        "        print(f\"거스름돈은 {change:,}입니다. 커피 맛있게 드세요~\")\n",
        "        break\n",
        "\n",
        "\n",
        "\n",
        "\n",
        "coffeemachine()\n"
      ],
      "metadata": {
        "id": "0CxAuYUEXVlY"
      },
      "execution_count": null,
      "outputs": []
    },
    {
      "cell_type": "markdown",
      "source": [],
      "metadata": {
        "id": "6KeuEOgzYBLA"
      }
    },
    {
      "cell_type": "code",
      "source": [
        "print('호텔관리 시스템입니다.')\n",
        "menu = '''\n",
        "1. 체크인\n",
        "2. 체크아웃\n",
        "3. 입실현황\n",
        "0. 종료'''\n",
        "number = int(input('호텔 방의 개수는(입력): '))\n",
        "hotel = [0 for _ in range(number)]\n",
        "print(f\"방 현황: {hotel} (0:빈방, 1:입실중)\")\n",
        "\n",
        "def check_in():\n",
        "    num = int(input(f'체크-in하실 방 호수(1~{len(hotel)}): '))\n",
        "    if hotel[num-1]:   # 이미 입실 중일 때\n",
        "        print(f\"{num}번 방은 이미 입실 중입니다.\")\n",
        "    else:\n",
        "            hotel[num-1] = 1\n",
        "\n",
        "def check_out():\n",
        "    num = int(input(f'체크-out하실 방 호수(1~{len(hotel)}): '))\n",
        "    if hotel[num-1]: # 체크아웃 처리\n",
        "        hotel[num-1] = 0    # 빈 방 상태로 만듦\n",
        "    else:\n",
        "        print(f'{hotel[num]}번 방은 빈 방입니다. 빈 방은 체크-out하실 수 없습니다.')\n",
        "\n",
        "def view_room():\n",
        "    for idx, room in enumerate(hotel): #[0, 0, 0]\n",
        "        if room == 0:\n",
        "            print(f\"{idx+1}호: 빈방\")\n",
        "        elif room == 1:\n",
        "            print(f\"{idx+1}호: 입실중\")\n",
        "\n",
        "\n",
        "\n",
        "while True:\n",
        "    print('-------------------')\n",
        "    print(menu)\n",
        "    select = input('-->메뉴 선택: ')\n",
        "    if select == '0':\n",
        "        break\n",
        "\n",
        "    elif select == '1': # 체크인\n",
        "        check_in()\n",
        "        continue\n",
        "\n",
        "    elif select == '2': # 체크아웃\n",
        "        check_out()\n",
        "\n",
        "    elif select == '3': # 현황보기\n",
        "        view_room()\n",
        "\n",
        "\n",
        "print('-------------------')\n",
        "print('프로그램 종료!')"
      ],
      "metadata": {
        "id": "f4eMZvG8YBrA",
        "colab": {
          "base_uri": "https://localhost:8080/",
          "height": 393
        },
        "outputId": "f7b46817-b7d7-45b8-e86c-7d596531ec4c"
      },
      "execution_count": 22,
      "outputs": [
        {
          "output_type": "stream",
          "name": "stdout",
          "text": [
            "호텔관리 시스템입니다.\n"
          ]
        },
        {
          "output_type": "error",
          "ename": "KeyboardInterrupt",
          "evalue": "Interrupted by user",
          "traceback": [
            "\u001b[0;31m---------------------------------------------------------------------------\u001b[0m",
            "\u001b[0;31mKeyboardInterrupt\u001b[0m                         Traceback (most recent call last)",
            "\u001b[0;32m<ipython-input-22-91a280b493a0>\u001b[0m in \u001b[0;36m<cell line: 7>\u001b[0;34m()\u001b[0m\n\u001b[1;32m      5\u001b[0m \u001b[0;36m3.\u001b[0m \u001b[0m입실현황\u001b[0m\u001b[0;34m\u001b[0m\u001b[0;34m\u001b[0m\u001b[0m\n\u001b[1;32m      6\u001b[0m 0. 종료'''\n\u001b[0;32m----> 7\u001b[0;31m \u001b[0mnumber\u001b[0m \u001b[0;34m=\u001b[0m \u001b[0mint\u001b[0m\u001b[0;34m(\u001b[0m\u001b[0minput\u001b[0m\u001b[0;34m(\u001b[0m\u001b[0;34m'호텔 방의 개수는(입력): '\u001b[0m\u001b[0;34m)\u001b[0m\u001b[0;34m)\u001b[0m\u001b[0;34m\u001b[0m\u001b[0;34m\u001b[0m\u001b[0m\n\u001b[0m\u001b[1;32m      8\u001b[0m \u001b[0mhotel\u001b[0m \u001b[0;34m=\u001b[0m \u001b[0;34m[\u001b[0m\u001b[0;36m0\u001b[0m \u001b[0;32mfor\u001b[0m \u001b[0m_\u001b[0m \u001b[0;32min\u001b[0m \u001b[0mrange\u001b[0m\u001b[0;34m(\u001b[0m\u001b[0mnumber\u001b[0m\u001b[0;34m)\u001b[0m\u001b[0;34m]\u001b[0m\u001b[0;34m\u001b[0m\u001b[0;34m\u001b[0m\u001b[0m\n\u001b[1;32m      9\u001b[0m \u001b[0mprint\u001b[0m\u001b[0;34m(\u001b[0m\u001b[0;34mf\"방 현황: {hotel} (0:빈방, 1:입실중)\"\u001b[0m\u001b[0;34m)\u001b[0m\u001b[0;34m\u001b[0m\u001b[0;34m\u001b[0m\u001b[0m\n",
            "\u001b[0;32m/usr/local/lib/python3.10/dist-packages/ipykernel/kernelbase.py\u001b[0m in \u001b[0;36mraw_input\u001b[0;34m(self, prompt)\u001b[0m\n\u001b[1;32m    849\u001b[0m                 \u001b[0;34m\"raw_input was called, but this frontend does not support input requests.\"\u001b[0m\u001b[0;34m\u001b[0m\u001b[0;34m\u001b[0m\u001b[0m\n\u001b[1;32m    850\u001b[0m             )\n\u001b[0;32m--> 851\u001b[0;31m         return self._input_request(str(prompt),\n\u001b[0m\u001b[1;32m    852\u001b[0m             \u001b[0mself\u001b[0m\u001b[0;34m.\u001b[0m\u001b[0m_parent_ident\u001b[0m\u001b[0;34m,\u001b[0m\u001b[0;34m\u001b[0m\u001b[0;34m\u001b[0m\u001b[0m\n\u001b[1;32m    853\u001b[0m             \u001b[0mself\u001b[0m\u001b[0;34m.\u001b[0m\u001b[0m_parent_header\u001b[0m\u001b[0;34m,\u001b[0m\u001b[0;34m\u001b[0m\u001b[0;34m\u001b[0m\u001b[0m\n",
            "\u001b[0;32m/usr/local/lib/python3.10/dist-packages/ipykernel/kernelbase.py\u001b[0m in \u001b[0;36m_input_request\u001b[0;34m(self, prompt, ident, parent, password)\u001b[0m\n\u001b[1;32m    893\u001b[0m             \u001b[0;32mexcept\u001b[0m \u001b[0mKeyboardInterrupt\u001b[0m\u001b[0;34m:\u001b[0m\u001b[0;34m\u001b[0m\u001b[0;34m\u001b[0m\u001b[0m\n\u001b[1;32m    894\u001b[0m                 \u001b[0;31m# re-raise KeyboardInterrupt, to truncate traceback\u001b[0m\u001b[0;34m\u001b[0m\u001b[0;34m\u001b[0m\u001b[0m\n\u001b[0;32m--> 895\u001b[0;31m                 \u001b[0;32mraise\u001b[0m \u001b[0mKeyboardInterrupt\u001b[0m\u001b[0;34m(\u001b[0m\u001b[0;34m\"Interrupted by user\"\u001b[0m\u001b[0;34m)\u001b[0m \u001b[0;32mfrom\u001b[0m \u001b[0;32mNone\u001b[0m\u001b[0;34m\u001b[0m\u001b[0;34m\u001b[0m\u001b[0m\n\u001b[0m\u001b[1;32m    896\u001b[0m             \u001b[0;32mexcept\u001b[0m \u001b[0mException\u001b[0m \u001b[0;32mas\u001b[0m \u001b[0me\u001b[0m\u001b[0;34m:\u001b[0m\u001b[0;34m\u001b[0m\u001b[0;34m\u001b[0m\u001b[0m\n\u001b[1;32m    897\u001b[0m                 \u001b[0mself\u001b[0m\u001b[0;34m.\u001b[0m\u001b[0mlog\u001b[0m\u001b[0;34m.\u001b[0m\u001b[0mwarning\u001b[0m\u001b[0;34m(\u001b[0m\u001b[0;34m\"Invalid Message:\"\u001b[0m\u001b[0;34m,\u001b[0m \u001b[0mexc_info\u001b[0m\u001b[0;34m=\u001b[0m\u001b[0;32mTrue\u001b[0m\u001b[0;34m)\u001b[0m\u001b[0;34m\u001b[0m\u001b[0;34m\u001b[0m\u001b[0m\n",
            "\u001b[0;31mKeyboardInterrupt\u001b[0m: Interrupted by user"
          ]
        }
      ]
    },
    {
      "cell_type": "markdown",
      "source": [
        "## lambda & map"
      ],
      "metadata": {
        "id": "bs045bSedugg"
      }
    },
    {
      "cell_type": "code",
      "source": [
        "mylist = [1, 2, 3, 4, 5, 6, 7, 8, 9, 10]\n",
        "# 3의 배수만 문자열로 변환해서 mylist 출력하기\n",
        "\n",
        "# func = lambda x : str(x) if x%3==() else x\n",
        "# mylist = list(map(func, mylist))\n",
        "mylist = list(map(lambda x : str(x) if x%3==0 else x, mylist))\n",
        "mylist\n",
        "\n",
        "# myList1 = [1, 2, 3, 4, 5]\n",
        "# myList2 = [2, 4, 6, 8, 10]\n",
        ""
      ],
      "metadata": {
        "colab": {
          "base_uri": "https://localhost:8080/"
        },
        "id": "QqkjtPs8dzMh",
        "outputId": "34aea324-d360-4b29-ce30-3fecf5e6669a"
      },
      "execution_count": 29,
      "outputs": [
        {
          "output_type": "execute_result",
          "data": {
            "text/plain": [
              "[1, 2, '3', 4, 5, '6', 7, 8, '9', 10]"
            ]
          },
          "metadata": {},
          "execution_count": 29
        }
      ]
    },
    {
      "cell_type": "code",
      "source": [
        "mylist1 = [1, 2, 3, 4, 5]\n",
        "mylist2 = [2, 4, 6, 8, 10]\n",
        "mylist3 = [1, 1, 1, 1, 1]\n",
        "\n",
        "func = lambda x, y, z: x*y*z\n",
        "mylist = list(map(func, mylist1, mylist2, mylist3))\n",
        "mylist"
      ],
      "metadata": {
        "colab": {
          "base_uri": "https://localhost:8080/"
        },
        "id": "ais5X9P6gHv3",
        "outputId": "f3ae981e-b6df-414c-831a-b3a8db8e7e09"
      },
      "execution_count": 30,
      "outputs": [
        {
          "output_type": "execute_result",
          "data": {
            "text/plain": [
              "[2, 8, 18, 32, 50]"
            ]
          },
          "metadata": {},
          "execution_count": 30
        }
      ]
    }
  ]
}