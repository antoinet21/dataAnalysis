{
  "cells": [
    {
      "cell_type": "markdown",
      "metadata": {
        "id": "view-in-github",
        "colab_type": "text"
      },
      "source": [
        "<a href=\"https://colab.research.google.com/github/antoinet21/dataAnalysis/blob/main/2_%EB%8D%B0%EC%9D%B4%ED%84%B0%EB%B6%84%EC%84%9D_06_%EC%A7%80%EB%8F%84%EC%97%90%EC%8B%9C%EA%B0%81%ED%99%94_%EB%B9%B5%EB%8D%95%ED%9B%84%EC%A7%80%EB%8F%84_%EC%99%84%EC%84%B1.ipynb\" target=\"_parent\"><img src=\"https://colab.research.google.com/assets/colab-badge.svg\" alt=\"Open In Colab\"/></a>"
      ]
    },
    {
      "cell_type": "markdown",
      "id": "XFgQe4VqN-4R",
      "metadata": {
        "id": "XFgQe4VqN-4R"
      },
      "source": [
        "# 한글폰트 설정 및 라이브러리 임포트"
      ]
    },
    {
      "cell_type": "code",
      "execution_count": 1,
      "id": "70ee2bad",
      "metadata": {
        "id": "70ee2bad",
        "colab": {
          "base_uri": "https://localhost:8080/"
        },
        "outputId": "94304751-ce0f-46a5-f392-a26218c23ef4"
      },
      "outputs": [
        {
          "output_type": "stream",
          "name": "stdout",
          "text": [
            "Reading package lists... Done\n",
            "Building dependency tree... Done\n",
            "Reading state information... Done\n",
            "The following NEW packages will be installed:\n",
            "  fonts-nanum\n",
            "0 upgraded, 1 newly installed, 0 to remove and 45 not upgraded.\n",
            "Need to get 10.3 MB of archives.\n",
            "After this operation, 34.1 MB of additional disk space will be used.\n",
            "Get:1 http://archive.ubuntu.com/ubuntu jammy/universe amd64 fonts-nanum all 20200506-1 [10.3 MB]\n",
            "Fetched 10.3 MB in 1s (10.5 MB/s)\n",
            "debconf: unable to initialize frontend: Dialog\n",
            "debconf: (No usable dialog-like program is installed, so the dialog based frontend cannot be used. at /usr/share/perl5/Debconf/FrontEnd/Dialog.pm line 78, <> line 1.)\n",
            "debconf: falling back to frontend: Readline\n",
            "debconf: unable to initialize frontend: Readline\n",
            "debconf: (This frontend requires a controlling tty.)\n",
            "debconf: falling back to frontend: Teletype\n",
            "dpkg-preconfigure: unable to re-open stdin: \n",
            "Selecting previously unselected package fonts-nanum.\n",
            "(Reading database ... 121752 files and directories currently installed.)\n",
            "Preparing to unpack .../fonts-nanum_20200506-1_all.deb ...\n",
            "Unpacking fonts-nanum (20200506-1) ...\n",
            "Setting up fonts-nanum (20200506-1) ...\n",
            "Processing triggers for fontconfig (2.13.1-4.2ubuntu5) ...\n",
            "/usr/share/fonts: caching, new cache contents: 0 fonts, 1 dirs\n",
            "/usr/share/fonts/truetype: caching, new cache contents: 0 fonts, 3 dirs\n",
            "/usr/share/fonts/truetype/humor-sans: caching, new cache contents: 1 fonts, 0 dirs\n",
            "/usr/share/fonts/truetype/liberation: caching, new cache contents: 16 fonts, 0 dirs\n",
            "/usr/share/fonts/truetype/nanum: caching, new cache contents: 12 fonts, 0 dirs\n",
            "/usr/local/share/fonts: caching, new cache contents: 0 fonts, 0 dirs\n",
            "/root/.local/share/fonts: skipping, no such directory\n",
            "/root/.fonts: skipping, no such directory\n",
            "/usr/share/fonts/truetype: skipping, looped directory detected\n",
            "/usr/share/fonts/truetype/humor-sans: skipping, looped directory detected\n",
            "/usr/share/fonts/truetype/liberation: skipping, looped directory detected\n",
            "/usr/share/fonts/truetype/nanum: skipping, looped directory detected\n",
            "/var/cache/fontconfig: cleaning cache directory\n",
            "/root/.cache/fontconfig: not cleaning non-existent cache directory\n",
            "/root/.fontconfig: not cleaning non-existent cache directory\n",
            "fc-cache: succeeded\n"
          ]
        }
      ],
      "source": [
        "# 코드 실행 후 재시작\n",
        "!sudo apt-get install -y fonts-nanum\n",
        "!sudo fc-cache -fv\n",
        "!rm ~/.cache/matplotlib -rf"
      ]
    },
    {
      "cell_type": "markdown",
      "id": "00fade0b",
      "metadata": {
        "id": "00fade0b"
      },
      "source": [
        "# 필요한 라이브러리 import"
      ]
    },
    {
      "cell_type": "code",
      "execution_count": 1,
      "id": "9TnnqCBiL2cb",
      "metadata": {
        "id": "9TnnqCBiL2cb"
      },
      "outputs": [],
      "source": [
        "import pandas as pd\n",
        "import matplotlib.pyplot as plt\n",
        "import numpy as np\n",
        "\n",
        "# 멧플롯립 한글폰트 지정\n",
        "plt.rc('font', family='NanumBarunGothic')    # 코랩에서 사용\n",
        "# plt.rc('font', family='Malgun Gothic')    # 윈도우에서 사용\n",
        "plt.rcParams['axes.unicode_minus'] = False"
      ]
    },
    {
      "cell_type": "markdown",
      "id": "aa4adfcc",
      "metadata": {
        "id": "aa4adfcc"
      },
      "source": [
        "# 빵덕후들의 지도\n",
        " - 제주도 서귀포시의 제과점 위치 정보를 제공하는 지도 시각화"
      ]
    },
    {
      "cell_type": "markdown",
      "id": "184a8f37",
      "metadata": {
        "id": "184a8f37"
      },
      "source": [
        "## 파일 읽어서 데이터프레임 생성하기"
      ]
    },
    {
      "cell_type": "code",
      "execution_count": 3,
      "id": "c1855d0f",
      "metadata": {
        "colab": {
          "base_uri": "https://localhost:8080/",
          "height": 310
        },
        "id": "c1855d0f",
        "outputId": "090f5148-2a9d-488c-bfb4-464b964dffec"
      },
      "outputs": [
        {
          "output_type": "execute_result",
          "data": {
            "text/plain": [
              "     업종명                          업소명                            소재지(도로명)  \\\n",
              "0  제과점영업           노베케이션(No Vacation)          제주특별자치도 서귀포시 표선면 민속해안로 635   \n",
              "1  제과점영업            그랜드파파(Grand papa)  제주특별자치도 서귀포시 태평로353번길 14, 1층 (서귀동)   \n",
              "2  제과점영업               위드윗(withwheat)          제주특별자치도 서귀포시 중앙로 261 (서홍동)   \n",
              "3  제과점영업                         허니제과        제주특별자치도 서귀포시 대정읍 서광남로 77, 1층   \n",
              "4  제과점영업  도트베이글팩토리(DOT BAGEL FACTORY)     제주특별자치도 서귀포시 서호호근로96번길 20 (서호동)   \n",
              "\n",
              "                       소재지(지번)         위도          경도     데이터기준일자  \n",
              "0   제주특별자치도 서귀포시 표선면 표선리 40-3   33.325364  126.837714  2024-04-01  \n",
              "1      제주특별자치도 서귀포시 서귀동 829-5   33.246848  126.560673  2024-04-01  \n",
              "2      제주특별자치도 서귀포시 서홍동 166-5   33.267520  126.558177  2024-04-01  \n",
              "3  제주특별자치도 서귀포시 대정읍 구억리 365-5   33.280342  126.301778  2024-04-01  \n",
              "4      제주특별자치도 서귀포시 서호동 325-1   33.255598  126.526362  2024-04-01  "
            ],
            "text/html": [
              "\n",
              "  <div id=\"df-ff87a636-8bc4-41b6-9b54-fdad83a61832\" class=\"colab-df-container\">\n",
              "    <div>\n",
              "<style scoped>\n",
              "    .dataframe tbody tr th:only-of-type {\n",
              "        vertical-align: middle;\n",
              "    }\n",
              "\n",
              "    .dataframe tbody tr th {\n",
              "        vertical-align: top;\n",
              "    }\n",
              "\n",
              "    .dataframe thead th {\n",
              "        text-align: right;\n",
              "    }\n",
              "</style>\n",
              "<table border=\"1\" class=\"dataframe\">\n",
              "  <thead>\n",
              "    <tr style=\"text-align: right;\">\n",
              "      <th></th>\n",
              "      <th>업종명</th>\n",
              "      <th>업소명</th>\n",
              "      <th>소재지(도로명)</th>\n",
              "      <th>소재지(지번)</th>\n",
              "      <th>위도</th>\n",
              "      <th>경도</th>\n",
              "      <th>데이터기준일자</th>\n",
              "    </tr>\n",
              "  </thead>\n",
              "  <tbody>\n",
              "    <tr>\n",
              "      <th>0</th>\n",
              "      <td>제과점영업</td>\n",
              "      <td>노베케이션(No Vacation)</td>\n",
              "      <td>제주특별자치도 서귀포시 표선면 민속해안로 635</td>\n",
              "      <td>제주특별자치도 서귀포시 표선면 표선리 40-3</td>\n",
              "      <td>33.325364</td>\n",
              "      <td>126.837714</td>\n",
              "      <td>2024-04-01</td>\n",
              "    </tr>\n",
              "    <tr>\n",
              "      <th>1</th>\n",
              "      <td>제과점영업</td>\n",
              "      <td>그랜드파파(Grand papa)</td>\n",
              "      <td>제주특별자치도 서귀포시 태평로353번길 14, 1층 (서귀동)</td>\n",
              "      <td>제주특별자치도 서귀포시 서귀동 829-5</td>\n",
              "      <td>33.246848</td>\n",
              "      <td>126.560673</td>\n",
              "      <td>2024-04-01</td>\n",
              "    </tr>\n",
              "    <tr>\n",
              "      <th>2</th>\n",
              "      <td>제과점영업</td>\n",
              "      <td>위드윗(withwheat)</td>\n",
              "      <td>제주특별자치도 서귀포시 중앙로 261 (서홍동)</td>\n",
              "      <td>제주특별자치도 서귀포시 서홍동 166-5</td>\n",
              "      <td>33.267520</td>\n",
              "      <td>126.558177</td>\n",
              "      <td>2024-04-01</td>\n",
              "    </tr>\n",
              "    <tr>\n",
              "      <th>3</th>\n",
              "      <td>제과점영업</td>\n",
              "      <td>허니제과</td>\n",
              "      <td>제주특별자치도 서귀포시 대정읍 서광남로 77, 1층</td>\n",
              "      <td>제주특별자치도 서귀포시 대정읍 구억리 365-5</td>\n",
              "      <td>33.280342</td>\n",
              "      <td>126.301778</td>\n",
              "      <td>2024-04-01</td>\n",
              "    </tr>\n",
              "    <tr>\n",
              "      <th>4</th>\n",
              "      <td>제과점영업</td>\n",
              "      <td>도트베이글팩토리(DOT BAGEL FACTORY)</td>\n",
              "      <td>제주특별자치도 서귀포시 서호호근로96번길 20 (서호동)</td>\n",
              "      <td>제주특별자치도 서귀포시 서호동 325-1</td>\n",
              "      <td>33.255598</td>\n",
              "      <td>126.526362</td>\n",
              "      <td>2024-04-01</td>\n",
              "    </tr>\n",
              "  </tbody>\n",
              "</table>\n",
              "</div>\n",
              "    <div class=\"colab-df-buttons\">\n",
              "\n",
              "  <div class=\"colab-df-container\">\n",
              "    <button class=\"colab-df-convert\" onclick=\"convertToInteractive('df-ff87a636-8bc4-41b6-9b54-fdad83a61832')\"\n",
              "            title=\"Convert this dataframe to an interactive table.\"\n",
              "            style=\"display:none;\">\n",
              "\n",
              "  <svg xmlns=\"http://www.w3.org/2000/svg\" height=\"24px\" viewBox=\"0 -960 960 960\">\n",
              "    <path d=\"M120-120v-720h720v720H120Zm60-500h600v-160H180v160Zm220 220h160v-160H400v160Zm0 220h160v-160H400v160ZM180-400h160v-160H180v160Zm440 0h160v-160H620v160ZM180-180h160v-160H180v160Zm440 0h160v-160H620v160Z\"/>\n",
              "  </svg>\n",
              "    </button>\n",
              "\n",
              "  <style>\n",
              "    .colab-df-container {\n",
              "      display:flex;\n",
              "      gap: 12px;\n",
              "    }\n",
              "\n",
              "    .colab-df-convert {\n",
              "      background-color: #E8F0FE;\n",
              "      border: none;\n",
              "      border-radius: 50%;\n",
              "      cursor: pointer;\n",
              "      display: none;\n",
              "      fill: #1967D2;\n",
              "      height: 32px;\n",
              "      padding: 0 0 0 0;\n",
              "      width: 32px;\n",
              "    }\n",
              "\n",
              "    .colab-df-convert:hover {\n",
              "      background-color: #E2EBFA;\n",
              "      box-shadow: 0px 1px 2px rgba(60, 64, 67, 0.3), 0px 1px 3px 1px rgba(60, 64, 67, 0.15);\n",
              "      fill: #174EA6;\n",
              "    }\n",
              "\n",
              "    .colab-df-buttons div {\n",
              "      margin-bottom: 4px;\n",
              "    }\n",
              "\n",
              "    [theme=dark] .colab-df-convert {\n",
              "      background-color: #3B4455;\n",
              "      fill: #D2E3FC;\n",
              "    }\n",
              "\n",
              "    [theme=dark] .colab-df-convert:hover {\n",
              "      background-color: #434B5C;\n",
              "      box-shadow: 0px 1px 3px 1px rgba(0, 0, 0, 0.15);\n",
              "      filter: drop-shadow(0px 1px 2px rgba(0, 0, 0, 0.3));\n",
              "      fill: #FFFFFF;\n",
              "    }\n",
              "  </style>\n",
              "\n",
              "    <script>\n",
              "      const buttonEl =\n",
              "        document.querySelector('#df-ff87a636-8bc4-41b6-9b54-fdad83a61832 button.colab-df-convert');\n",
              "      buttonEl.style.display =\n",
              "        google.colab.kernel.accessAllowed ? 'block' : 'none';\n",
              "\n",
              "      async function convertToInteractive(key) {\n",
              "        const element = document.querySelector('#df-ff87a636-8bc4-41b6-9b54-fdad83a61832');\n",
              "        const dataTable =\n",
              "          await google.colab.kernel.invokeFunction('convertToInteractive',\n",
              "                                                    [key], {});\n",
              "        if (!dataTable) return;\n",
              "\n",
              "        const docLinkHtml = 'Like what you see? Visit the ' +\n",
              "          '<a target=\"_blank\" href=https://colab.research.google.com/notebooks/data_table.ipynb>data table notebook</a>'\n",
              "          + ' to learn more about interactive tables.';\n",
              "        element.innerHTML = '';\n",
              "        dataTable['output_type'] = 'display_data';\n",
              "        await google.colab.output.renderOutput(dataTable, element);\n",
              "        const docLink = document.createElement('div');\n",
              "        docLink.innerHTML = docLinkHtml;\n",
              "        element.appendChild(docLink);\n",
              "      }\n",
              "    </script>\n",
              "  </div>\n",
              "\n",
              "\n",
              "<div id=\"df-66186eb3-390e-4e4f-8845-35918b34a05f\">\n",
              "  <button class=\"colab-df-quickchart\" onclick=\"quickchart('df-66186eb3-390e-4e4f-8845-35918b34a05f')\"\n",
              "            title=\"Suggest charts\"\n",
              "            style=\"display:none;\">\n",
              "\n",
              "<svg xmlns=\"http://www.w3.org/2000/svg\" height=\"24px\"viewBox=\"0 0 24 24\"\n",
              "     width=\"24px\">\n",
              "    <g>\n",
              "        <path d=\"M19 3H5c-1.1 0-2 .9-2 2v14c0 1.1.9 2 2 2h14c1.1 0 2-.9 2-2V5c0-1.1-.9-2-2-2zM9 17H7v-7h2v7zm4 0h-2V7h2v10zm4 0h-2v-4h2v4z\"/>\n",
              "    </g>\n",
              "</svg>\n",
              "  </button>\n",
              "\n",
              "<style>\n",
              "  .colab-df-quickchart {\n",
              "      --bg-color: #E8F0FE;\n",
              "      --fill-color: #1967D2;\n",
              "      --hover-bg-color: #E2EBFA;\n",
              "      --hover-fill-color: #174EA6;\n",
              "      --disabled-fill-color: #AAA;\n",
              "      --disabled-bg-color: #DDD;\n",
              "  }\n",
              "\n",
              "  [theme=dark] .colab-df-quickchart {\n",
              "      --bg-color: #3B4455;\n",
              "      --fill-color: #D2E3FC;\n",
              "      --hover-bg-color: #434B5C;\n",
              "      --hover-fill-color: #FFFFFF;\n",
              "      --disabled-bg-color: #3B4455;\n",
              "      --disabled-fill-color: #666;\n",
              "  }\n",
              "\n",
              "  .colab-df-quickchart {\n",
              "    background-color: var(--bg-color);\n",
              "    border: none;\n",
              "    border-radius: 50%;\n",
              "    cursor: pointer;\n",
              "    display: none;\n",
              "    fill: var(--fill-color);\n",
              "    height: 32px;\n",
              "    padding: 0;\n",
              "    width: 32px;\n",
              "  }\n",
              "\n",
              "  .colab-df-quickchart:hover {\n",
              "    background-color: var(--hover-bg-color);\n",
              "    box-shadow: 0 1px 2px rgba(60, 64, 67, 0.3), 0 1px 3px 1px rgba(60, 64, 67, 0.15);\n",
              "    fill: var(--button-hover-fill-color);\n",
              "  }\n",
              "\n",
              "  .colab-df-quickchart-complete:disabled,\n",
              "  .colab-df-quickchart-complete:disabled:hover {\n",
              "    background-color: var(--disabled-bg-color);\n",
              "    fill: var(--disabled-fill-color);\n",
              "    box-shadow: none;\n",
              "  }\n",
              "\n",
              "  .colab-df-spinner {\n",
              "    border: 2px solid var(--fill-color);\n",
              "    border-color: transparent;\n",
              "    border-bottom-color: var(--fill-color);\n",
              "    animation:\n",
              "      spin 1s steps(1) infinite;\n",
              "  }\n",
              "\n",
              "  @keyframes spin {\n",
              "    0% {\n",
              "      border-color: transparent;\n",
              "      border-bottom-color: var(--fill-color);\n",
              "      border-left-color: var(--fill-color);\n",
              "    }\n",
              "    20% {\n",
              "      border-color: transparent;\n",
              "      border-left-color: var(--fill-color);\n",
              "      border-top-color: var(--fill-color);\n",
              "    }\n",
              "    30% {\n",
              "      border-color: transparent;\n",
              "      border-left-color: var(--fill-color);\n",
              "      border-top-color: var(--fill-color);\n",
              "      border-right-color: var(--fill-color);\n",
              "    }\n",
              "    40% {\n",
              "      border-color: transparent;\n",
              "      border-right-color: var(--fill-color);\n",
              "      border-top-color: var(--fill-color);\n",
              "    }\n",
              "    60% {\n",
              "      border-color: transparent;\n",
              "      border-right-color: var(--fill-color);\n",
              "    }\n",
              "    80% {\n",
              "      border-color: transparent;\n",
              "      border-right-color: var(--fill-color);\n",
              "      border-bottom-color: var(--fill-color);\n",
              "    }\n",
              "    90% {\n",
              "      border-color: transparent;\n",
              "      border-bottom-color: var(--fill-color);\n",
              "    }\n",
              "  }\n",
              "</style>\n",
              "\n",
              "  <script>\n",
              "    async function quickchart(key) {\n",
              "      const quickchartButtonEl =\n",
              "        document.querySelector('#' + key + ' button');\n",
              "      quickchartButtonEl.disabled = true;  // To prevent multiple clicks.\n",
              "      quickchartButtonEl.classList.add('colab-df-spinner');\n",
              "      try {\n",
              "        const charts = await google.colab.kernel.invokeFunction(\n",
              "            'suggestCharts', [key], {});\n",
              "      } catch (error) {\n",
              "        console.error('Error during call to suggestCharts:', error);\n",
              "      }\n",
              "      quickchartButtonEl.classList.remove('colab-df-spinner');\n",
              "      quickchartButtonEl.classList.add('colab-df-quickchart-complete');\n",
              "    }\n",
              "    (() => {\n",
              "      let quickchartButtonEl =\n",
              "        document.querySelector('#df-66186eb3-390e-4e4f-8845-35918b34a05f button');\n",
              "      quickchartButtonEl.style.display =\n",
              "        google.colab.kernel.accessAllowed ? 'block' : 'none';\n",
              "    })();\n",
              "  </script>\n",
              "</div>\n",
              "\n",
              "    </div>\n",
              "  </div>\n"
            ],
            "application/vnd.google.colaboratory.intrinsic+json": {
              "type": "dataframe",
              "variable_name": "df",
              "summary": "{\n  \"name\": \"df\",\n  \"rows\": 167,\n  \"fields\": [\n    {\n      \"column\": \"\\uc5c5\\uc885\\uba85\",\n      \"properties\": {\n        \"dtype\": \"category\",\n        \"num_unique_values\": 1,\n        \"samples\": [\n          \"\\uc81c\\uacfc\\uc810\\uc601\\uc5c5\"\n        ],\n        \"semantic_type\": \"\",\n        \"description\": \"\"\n      }\n    },\n    {\n      \"column\": \"\\uc5c5\\uc18c\\uba85\",\n      \"properties\": {\n        \"dtype\": \"string\",\n        \"num_unique_values\": 165,\n        \"samples\": [\n          \"\\uc81c\\uc8fc\\uad6d\\uc81c\\ucee8\\ubca4\\uc120\\uc13c\\ud130 \\ubca0\\uc774\\ucee4\\ub9ac\"\n        ],\n        \"semantic_type\": \"\",\n        \"description\": \"\"\n      }\n    },\n    {\n      \"column\": \"\\uc18c\\uc7ac\\uc9c0(\\ub3c4\\ub85c\\uba85)\",\n      \"properties\": {\n        \"dtype\": \"string\",\n        \"num_unique_values\": 156,\n        \"samples\": [\n          \"\\uc81c\\uc8fc\\ud2b9\\ubcc4\\uc790\\uce58\\ub3c4 \\uc11c\\uadc0\\ud3ec\\uc2dc \\uc11c\\ud638\\ub0a8\\ub85c32\\ubc88\\uae38 29, 1\\uce35 (\\uc11c\\ud638\\ub3d9)\"\n        ],\n        \"semantic_type\": \"\",\n        \"description\": \"\"\n      }\n    },\n    {\n      \"column\": \"\\uc18c\\uc7ac\\uc9c0(\\uc9c0\\ubc88)\",\n      \"properties\": {\n        \"dtype\": \"string\",\n        \"num_unique_values\": 159,\n        \"samples\": [\n          \"\\uc81c\\uc8fc\\ud2b9\\ubcc4\\uc790\\uce58\\ub3c4 \\uc11c\\uadc0\\ud3ec\\uc2dc \\ub3d9\\ud64d\\ub3d9 84-4 \"\n        ],\n        \"semantic_type\": \"\",\n        \"description\": \"\"\n      }\n    },\n    {\n      \"column\": \"\\uc704\\ub3c4\",\n      \"properties\": {\n        \"dtype\": \"number\",\n        \"std\": 0.05973754177108804,\n        \"min\": 33.20984206,\n        \"max\": 33.47292587,\n        \"num_unique_values\": 153,\n        \"samples\": [\n          33.24545783\n        ],\n        \"semantic_type\": \"\",\n        \"description\": \"\"\n      }\n    },\n    {\n      \"column\": \"\\uacbd\\ub3c4\",\n      \"properties\": {\n        \"dtype\": \"number\",\n        \"std\": 0.19991733635535242,\n        \"min\": 126.1801297,\n        \"max\": 126.9342551,\n        \"num_unique_values\": 153,\n        \"samples\": [\n          126.5667585\n        ],\n        \"semantic_type\": \"\",\n        \"description\": \"\"\n      }\n    },\n    {\n      \"column\": \"\\ub370\\uc774\\ud130\\uae30\\uc900\\uc77c\\uc790\",\n      \"properties\": {\n        \"dtype\": \"object\",\n        \"num_unique_values\": 1,\n        \"samples\": [\n          \"2024-04-01\"\n        ],\n        \"semantic_type\": \"\",\n        \"description\": \"\"\n      }\n    }\n  ]\n}"
            }
          },
          "metadata": {},
          "execution_count": 3
        }
      ],
      "source": [
        "import pandas as pd\n",
        "df = pd.read_csv('제주특별자치도_서귀포시_제과점현황_20240401.csv', encoding='cp949')\n",
        "df.head()"
      ]
    },
    {
      "cell_type": "markdown",
      "id": "FIAlDGYYYVJ_",
      "metadata": {
        "id": "FIAlDGYYYVJ_"
      },
      "source": [
        "## 데이터 구조 탐색하기"
      ]
    },
    {
      "cell_type": "code",
      "execution_count": 4,
      "id": "i9hDum1bZno7",
      "metadata": {
        "colab": {
          "base_uri": "https://localhost:8080/"
        },
        "id": "i9hDum1bZno7",
        "outputId": "c0c8b81f-6144-43f5-f6c6-dc2a0971b92c"
      },
      "outputs": [
        {
          "output_type": "stream",
          "name": "stdout",
          "text": [
            "<class 'pandas.core.frame.DataFrame'>\n",
            "RangeIndex: 167 entries, 0 to 166\n",
            "Data columns (total 7 columns):\n",
            " #   Column    Non-Null Count  Dtype  \n",
            "---  ------    --------------  -----  \n",
            " 0   업종명       167 non-null    object \n",
            " 1   업소명       167 non-null    object \n",
            " 2   소재지(도로명)  165 non-null    object \n",
            " 3   소재지(지번)   167 non-null    object \n",
            " 4   위도        167 non-null    float64\n",
            " 5   경도        167 non-null    float64\n",
            " 6   데이터기준일자   167 non-null    object \n",
            "dtypes: float64(2), object(5)\n",
            "memory usage: 9.3+ KB\n"
          ]
        }
      ],
      "source": [
        "df.info()"
      ]
    },
    {
      "cell_type": "code",
      "execution_count": 5,
      "id": "5cV5p-LjQAmB",
      "metadata": {
        "colab": {
          "base_uri": "https://localhost:8080/"
        },
        "id": "5cV5p-LjQAmB",
        "outputId": "761a0ead-13fe-472a-d418-511f79241ca3"
      },
      "outputs": [
        {
          "output_type": "execute_result",
          "data": {
            "text/plain": [
              "업종명\n",
              "제과점영업    167\n",
              "Name: count, dtype: int64"
            ]
          },
          "metadata": {},
          "execution_count": 5
        }
      ],
      "source": [
        "#'업종명'컬럼의 데이터 확인하기\n",
        "df['업종명'].value_counts()"
      ]
    },
    {
      "cell_type": "code",
      "execution_count": 6,
      "id": "dyhD6IogciZC",
      "metadata": {
        "colab": {
          "base_uri": "https://localhost:8080/"
        },
        "id": "dyhD6IogciZC",
        "outputId": "3d58f5a0-d5e1-48e5-eb47-1cf368528e8e"
      },
      "outputs": [
        {
          "output_type": "execute_result",
          "data": {
            "text/plain": [
              "업종명         0\n",
              "업소명         0\n",
              "소재지(도로명)    2\n",
              "소재지(지번)     0\n",
              "위도          0\n",
              "경도          0\n",
              "데이터기준일자     0\n",
              "dtype: int64"
            ]
          },
          "metadata": {},
          "execution_count": 6
        }
      ],
      "source": [
        "# 결측치 데이터 확인하기\n",
        "# df.isnull()\n",
        "df.isnull().sum()"
      ]
    },
    {
      "cell_type": "code",
      "execution_count": 7,
      "id": "c05ad3c5",
      "metadata": {
        "colab": {
          "base_uri": "https://localhost:8080/",
          "height": 112
        },
        "id": "c05ad3c5",
        "outputId": "a39fd356-d6e9-4cc3-9e8e-4b22af1e6b10"
      },
      "outputs": [
        {
          "output_type": "execute_result",
          "data": {
            "text/plain": [
              "       업종명     업소명 소재지(도로명)                      소재지(지번)         위도  \\\n",
              "144  제과점영업    빵하우스      NaN      제주특별자치도 서귀포시 동홍동 645-3   33.252836   \n",
              "159  제과점영업  빙그레제과점      NaN  제주특별자치도 서귀포시 대정읍 하모리 824번지   33.221995   \n",
              "\n",
              "             경도     데이터기준일자  \n",
              "144  126.570179  2024-04-01  \n",
              "159  126.254367  2024-04-01  "
            ],
            "text/html": [
              "\n",
              "  <div id=\"df-c74c7f21-aa80-48f7-87a0-6f1324d896a6\" class=\"colab-df-container\">\n",
              "    <div>\n",
              "<style scoped>\n",
              "    .dataframe tbody tr th:only-of-type {\n",
              "        vertical-align: middle;\n",
              "    }\n",
              "\n",
              "    .dataframe tbody tr th {\n",
              "        vertical-align: top;\n",
              "    }\n",
              "\n",
              "    .dataframe thead th {\n",
              "        text-align: right;\n",
              "    }\n",
              "</style>\n",
              "<table border=\"1\" class=\"dataframe\">\n",
              "  <thead>\n",
              "    <tr style=\"text-align: right;\">\n",
              "      <th></th>\n",
              "      <th>업종명</th>\n",
              "      <th>업소명</th>\n",
              "      <th>소재지(도로명)</th>\n",
              "      <th>소재지(지번)</th>\n",
              "      <th>위도</th>\n",
              "      <th>경도</th>\n",
              "      <th>데이터기준일자</th>\n",
              "    </tr>\n",
              "  </thead>\n",
              "  <tbody>\n",
              "    <tr>\n",
              "      <th>144</th>\n",
              "      <td>제과점영업</td>\n",
              "      <td>빵하우스</td>\n",
              "      <td>NaN</td>\n",
              "      <td>제주특별자치도 서귀포시 동홍동 645-3</td>\n",
              "      <td>33.252836</td>\n",
              "      <td>126.570179</td>\n",
              "      <td>2024-04-01</td>\n",
              "    </tr>\n",
              "    <tr>\n",
              "      <th>159</th>\n",
              "      <td>제과점영업</td>\n",
              "      <td>빙그레제과점</td>\n",
              "      <td>NaN</td>\n",
              "      <td>제주특별자치도 서귀포시 대정읍 하모리 824번지</td>\n",
              "      <td>33.221995</td>\n",
              "      <td>126.254367</td>\n",
              "      <td>2024-04-01</td>\n",
              "    </tr>\n",
              "  </tbody>\n",
              "</table>\n",
              "</div>\n",
              "    <div class=\"colab-df-buttons\">\n",
              "\n",
              "  <div class=\"colab-df-container\">\n",
              "    <button class=\"colab-df-convert\" onclick=\"convertToInteractive('df-c74c7f21-aa80-48f7-87a0-6f1324d896a6')\"\n",
              "            title=\"Convert this dataframe to an interactive table.\"\n",
              "            style=\"display:none;\">\n",
              "\n",
              "  <svg xmlns=\"http://www.w3.org/2000/svg\" height=\"24px\" viewBox=\"0 -960 960 960\">\n",
              "    <path d=\"M120-120v-720h720v720H120Zm60-500h600v-160H180v160Zm220 220h160v-160H400v160Zm0 220h160v-160H400v160ZM180-400h160v-160H180v160Zm440 0h160v-160H620v160ZM180-180h160v-160H180v160Zm440 0h160v-160H620v160Z\"/>\n",
              "  </svg>\n",
              "    </button>\n",
              "\n",
              "  <style>\n",
              "    .colab-df-container {\n",
              "      display:flex;\n",
              "      gap: 12px;\n",
              "    }\n",
              "\n",
              "    .colab-df-convert {\n",
              "      background-color: #E8F0FE;\n",
              "      border: none;\n",
              "      border-radius: 50%;\n",
              "      cursor: pointer;\n",
              "      display: none;\n",
              "      fill: #1967D2;\n",
              "      height: 32px;\n",
              "      padding: 0 0 0 0;\n",
              "      width: 32px;\n",
              "    }\n",
              "\n",
              "    .colab-df-convert:hover {\n",
              "      background-color: #E2EBFA;\n",
              "      box-shadow: 0px 1px 2px rgba(60, 64, 67, 0.3), 0px 1px 3px 1px rgba(60, 64, 67, 0.15);\n",
              "      fill: #174EA6;\n",
              "    }\n",
              "\n",
              "    .colab-df-buttons div {\n",
              "      margin-bottom: 4px;\n",
              "    }\n",
              "\n",
              "    [theme=dark] .colab-df-convert {\n",
              "      background-color: #3B4455;\n",
              "      fill: #D2E3FC;\n",
              "    }\n",
              "\n",
              "    [theme=dark] .colab-df-convert:hover {\n",
              "      background-color: #434B5C;\n",
              "      box-shadow: 0px 1px 3px 1px rgba(0, 0, 0, 0.15);\n",
              "      filter: drop-shadow(0px 1px 2px rgba(0, 0, 0, 0.3));\n",
              "      fill: #FFFFFF;\n",
              "    }\n",
              "  </style>\n",
              "\n",
              "    <script>\n",
              "      const buttonEl =\n",
              "        document.querySelector('#df-c74c7f21-aa80-48f7-87a0-6f1324d896a6 button.colab-df-convert');\n",
              "      buttonEl.style.display =\n",
              "        google.colab.kernel.accessAllowed ? 'block' : 'none';\n",
              "\n",
              "      async function convertToInteractive(key) {\n",
              "        const element = document.querySelector('#df-c74c7f21-aa80-48f7-87a0-6f1324d896a6');\n",
              "        const dataTable =\n",
              "          await google.colab.kernel.invokeFunction('convertToInteractive',\n",
              "                                                    [key], {});\n",
              "        if (!dataTable) return;\n",
              "\n",
              "        const docLinkHtml = 'Like what you see? Visit the ' +\n",
              "          '<a target=\"_blank\" href=https://colab.research.google.com/notebooks/data_table.ipynb>data table notebook</a>'\n",
              "          + ' to learn more about interactive tables.';\n",
              "        element.innerHTML = '';\n",
              "        dataTable['output_type'] = 'display_data';\n",
              "        await google.colab.output.renderOutput(dataTable, element);\n",
              "        const docLink = document.createElement('div');\n",
              "        docLink.innerHTML = docLinkHtml;\n",
              "        element.appendChild(docLink);\n",
              "      }\n",
              "    </script>\n",
              "  </div>\n",
              "\n",
              "\n",
              "<div id=\"df-791fc6fe-dd17-4172-89c4-8c190685f89d\">\n",
              "  <button class=\"colab-df-quickchart\" onclick=\"quickchart('df-791fc6fe-dd17-4172-89c4-8c190685f89d')\"\n",
              "            title=\"Suggest charts\"\n",
              "            style=\"display:none;\">\n",
              "\n",
              "<svg xmlns=\"http://www.w3.org/2000/svg\" height=\"24px\"viewBox=\"0 0 24 24\"\n",
              "     width=\"24px\">\n",
              "    <g>\n",
              "        <path d=\"M19 3H5c-1.1 0-2 .9-2 2v14c0 1.1.9 2 2 2h14c1.1 0 2-.9 2-2V5c0-1.1-.9-2-2-2zM9 17H7v-7h2v7zm4 0h-2V7h2v10zm4 0h-2v-4h2v4z\"/>\n",
              "    </g>\n",
              "</svg>\n",
              "  </button>\n",
              "\n",
              "<style>\n",
              "  .colab-df-quickchart {\n",
              "      --bg-color: #E8F0FE;\n",
              "      --fill-color: #1967D2;\n",
              "      --hover-bg-color: #E2EBFA;\n",
              "      --hover-fill-color: #174EA6;\n",
              "      --disabled-fill-color: #AAA;\n",
              "      --disabled-bg-color: #DDD;\n",
              "  }\n",
              "\n",
              "  [theme=dark] .colab-df-quickchart {\n",
              "      --bg-color: #3B4455;\n",
              "      --fill-color: #D2E3FC;\n",
              "      --hover-bg-color: #434B5C;\n",
              "      --hover-fill-color: #FFFFFF;\n",
              "      --disabled-bg-color: #3B4455;\n",
              "      --disabled-fill-color: #666;\n",
              "  }\n",
              "\n",
              "  .colab-df-quickchart {\n",
              "    background-color: var(--bg-color);\n",
              "    border: none;\n",
              "    border-radius: 50%;\n",
              "    cursor: pointer;\n",
              "    display: none;\n",
              "    fill: var(--fill-color);\n",
              "    height: 32px;\n",
              "    padding: 0;\n",
              "    width: 32px;\n",
              "  }\n",
              "\n",
              "  .colab-df-quickchart:hover {\n",
              "    background-color: var(--hover-bg-color);\n",
              "    box-shadow: 0 1px 2px rgba(60, 64, 67, 0.3), 0 1px 3px 1px rgba(60, 64, 67, 0.15);\n",
              "    fill: var(--button-hover-fill-color);\n",
              "  }\n",
              "\n",
              "  .colab-df-quickchart-complete:disabled,\n",
              "  .colab-df-quickchart-complete:disabled:hover {\n",
              "    background-color: var(--disabled-bg-color);\n",
              "    fill: var(--disabled-fill-color);\n",
              "    box-shadow: none;\n",
              "  }\n",
              "\n",
              "  .colab-df-spinner {\n",
              "    border: 2px solid var(--fill-color);\n",
              "    border-color: transparent;\n",
              "    border-bottom-color: var(--fill-color);\n",
              "    animation:\n",
              "      spin 1s steps(1) infinite;\n",
              "  }\n",
              "\n",
              "  @keyframes spin {\n",
              "    0% {\n",
              "      border-color: transparent;\n",
              "      border-bottom-color: var(--fill-color);\n",
              "      border-left-color: var(--fill-color);\n",
              "    }\n",
              "    20% {\n",
              "      border-color: transparent;\n",
              "      border-left-color: var(--fill-color);\n",
              "      border-top-color: var(--fill-color);\n",
              "    }\n",
              "    30% {\n",
              "      border-color: transparent;\n",
              "      border-left-color: var(--fill-color);\n",
              "      border-top-color: var(--fill-color);\n",
              "      border-right-color: var(--fill-color);\n",
              "    }\n",
              "    40% {\n",
              "      border-color: transparent;\n",
              "      border-right-color: var(--fill-color);\n",
              "      border-top-color: var(--fill-color);\n",
              "    }\n",
              "    60% {\n",
              "      border-color: transparent;\n",
              "      border-right-color: var(--fill-color);\n",
              "    }\n",
              "    80% {\n",
              "      border-color: transparent;\n",
              "      border-right-color: var(--fill-color);\n",
              "      border-bottom-color: var(--fill-color);\n",
              "    }\n",
              "    90% {\n",
              "      border-color: transparent;\n",
              "      border-bottom-color: var(--fill-color);\n",
              "    }\n",
              "  }\n",
              "</style>\n",
              "\n",
              "  <script>\n",
              "    async function quickchart(key) {\n",
              "      const quickchartButtonEl =\n",
              "        document.querySelector('#' + key + ' button');\n",
              "      quickchartButtonEl.disabled = true;  // To prevent multiple clicks.\n",
              "      quickchartButtonEl.classList.add('colab-df-spinner');\n",
              "      try {\n",
              "        const charts = await google.colab.kernel.invokeFunction(\n",
              "            'suggestCharts', [key], {});\n",
              "      } catch (error) {\n",
              "        console.error('Error during call to suggestCharts:', error);\n",
              "      }\n",
              "      quickchartButtonEl.classList.remove('colab-df-spinner');\n",
              "      quickchartButtonEl.classList.add('colab-df-quickchart-complete');\n",
              "    }\n",
              "    (() => {\n",
              "      let quickchartButtonEl =\n",
              "        document.querySelector('#df-791fc6fe-dd17-4172-89c4-8c190685f89d button');\n",
              "      quickchartButtonEl.style.display =\n",
              "        google.colab.kernel.accessAllowed ? 'block' : 'none';\n",
              "    })();\n",
              "  </script>\n",
              "</div>\n",
              "\n",
              "    </div>\n",
              "  </div>\n"
            ],
            "application/vnd.google.colaboratory.intrinsic+json": {
              "type": "dataframe",
              "repr_error": "0"
            }
          },
          "metadata": {},
          "execution_count": 7
        }
      ],
      "source": [
        "# 특정 컬럼의 결측치 확인\n",
        "df[df['소재지(도로명)'].isnull()]\n",
        "# df.loc[df['소재지(도로명)'].isnull()]"
      ]
    },
    {
      "cell_type": "markdown",
      "id": "cy7cTiAHcKOD",
      "metadata": {
        "id": "cy7cTiAHcKOD"
      },
      "source": [
        "## 데이터 전처리하기"
      ]
    },
    {
      "cell_type": "markdown",
      "id": "zKTzxdyScNED",
      "metadata": {
        "id": "zKTzxdyScNED"
      },
      "source": [
        "### 이상치 확인하기\n",
        "- 수치형 값을 갖는 '위도','경도' 컬럼에 이상치가 있는지 boxplot으로 확인"
      ]
    },
    {
      "cell_type": "code",
      "execution_count": null,
      "id": "a_ZAo_wWZ-ss",
      "metadata": {
        "id": "a_ZAo_wWZ-ss"
      },
      "outputs": [],
      "source": [
        "import matplotlib.pyplot as plt\n",
        "\n",
        "ax1 = plt.subplot(121) # (1) 첫 번째 공간에 axes 생성\n",
        "ax1.boxplot(df['위도'])\n",
        "ax2 = plt.subplot(122)\n",
        "ax2.boxplot(df['경도'])\n",
        "plt.show()"
      ]
    },
    {
      "cell_type": "markdown",
      "id": "mVohEEpab4GR",
      "metadata": {
        "id": "mVohEEpab4GR"
      },
      "source": [
        "### 불필요한 컬럼 삭제하기\n",
        "- '소재지(도로명)' 컬럼 대신 '소재지(지번)'을 사용하면 되기 때문에 이 컬럼은 삭제한다\n",
        "- '업종명', '데이터기준일자' 컬럼도 분석에 필요하지 않은 내용으로 보고 삭제한다."
      ]
    },
    {
      "cell_type": "code",
      "execution_count": null,
      "id": "D98cNY-xbcuf",
      "metadata": {
        "id": "D98cNY-xbcuf"
      },
      "outputs": [],
      "source": [
        "df.drop(columns=['업종명', '소재지(도로명)', '데이터기준일자'], axis=1, inplace=True)\n",
        "df.isnull().sum()"
      ]
    },
    {
      "cell_type": "code",
      "execution_count": null,
      "id": "HZNtbw4abkfg",
      "metadata": {
        "id": "HZNtbw4abkfg"
      },
      "outputs": [],
      "source": [
        "df.head()"
      ]
    },
    {
      "cell_type": "markdown",
      "id": "7kdZlT8Rwnya",
      "metadata": {
        "id": "7kdZlT8Rwnya"
      },
      "source": [
        "### 소재지(지번) 주소에서 읍,면,동 정보 추출하기"
      ]
    },
    {
      "cell_type": "code",
      "execution_count": null,
      "id": "YtTZxTWKwyCU",
      "metadata": {
        "id": "YtTZxTWKwyCU"
      },
      "outputs": [],
      "source": [
        "df['소재지(지번)'].str.split(' ').str[2]"
      ]
    },
    {
      "cell_type": "code",
      "execution_count": null,
      "id": "F3rgF3iUyPWM",
      "metadata": {
        "id": "F3rgF3iUyPWM"
      },
      "outputs": [],
      "source": [
        "df['읍면동'] = df['소재지(지번)'].str.split(' ').str[2]\n",
        "df.head()"
      ]
    },
    {
      "cell_type": "code",
      "execution_count": null,
      "id": "udH5QN6izJYw",
      "metadata": {
        "id": "udH5QN6izJYw"
      },
      "outputs": [],
      "source": [
        "df.info()"
      ]
    },
    {
      "cell_type": "markdown",
      "id": "qKW57h6mv52x",
      "metadata": {
        "id": "qKW57h6mv52x"
      },
      "source": [
        "## 데이터 탐색하기"
      ]
    },
    {
      "cell_type": "markdown",
      "id": "gmfCMPHIwDqQ",
      "metadata": {
        "id": "gmfCMPHIwDqQ"
      },
      "source": [
        "### 빵집이 제일 많은 동네는 어디일까?"
      ]
    },
    {
      "cell_type": "code",
      "execution_count": null,
      "id": "kI4I9ACB0Cbz",
      "metadata": {
        "id": "kI4I9ACB0Cbz"
      },
      "outputs": [],
      "source": [
        "df['읍면동'].value_counts()"
      ]
    },
    {
      "cell_type": "code",
      "execution_count": null,
      "id": "lHn4qDEYPSJv",
      "metadata": {
        "id": "lHn4qDEYPSJv"
      },
      "outputs": [],
      "source": [
        "# 대정읍-> 안덕면 -> 성산읍 순서로 빵집이 많다."
      ]
    },
    {
      "cell_type": "code",
      "execution_count": null,
      "id": "oVTsutjsze8W",
      "metadata": {
        "id": "oVTsutjsze8W"
      },
      "outputs": [],
      "source": [
        "df.loc[df['읍면동']=='대정읍'][['업소명', '소재지(지번)']]"
      ]
    },
    {
      "cell_type": "markdown",
      "id": "gp-dTKA60QWw",
      "metadata": {
        "id": "gp-dTKA60QWw"
      },
      "source": [
        "### 중문동/서호동에 있는 빵집의 주소 알아보기"
      ]
    },
    {
      "cell_type": "code",
      "execution_count": null,
      "id": "C3XswKpmzn9N",
      "metadata": {
        "id": "C3XswKpmzn9N"
      },
      "outputs": [],
      "source": [
        "# df.loc[df['읍면동']=='중문동'][['업소명', '소재지(지번)']]\n",
        "df.loc[df['읍면동']=='서호동'][['업소명', '소재지(지번)']]"
      ]
    },
    {
      "cell_type": "markdown",
      "id": "DR32-9VzdhFT",
      "metadata": {
        "id": "DR32-9VzdhFT"
      },
      "source": [
        "## 데이터 시각화 하기\n",
        "- 지도위에 위치와 정보 표시하기\n",
        "- folium 사용법 <br>\n",
        "https://python-visualization.github.io/folium/quickstart.html#Getting-Started"
      ]
    },
    {
      "cell_type": "markdown",
      "id": "Dz6U6a1XkieX",
      "metadata": {
        "id": "Dz6U6a1XkieX"
      },
      "source": [
        "### folium사용하기"
      ]
    },
    {
      "cell_type": "code",
      "execution_count": null,
      "id": "572bb7f9",
      "metadata": {
        "id": "572bb7f9"
      },
      "outputs": [],
      "source": [
        "!pip install folium"
      ]
    },
    {
      "cell_type": "code",
      "execution_count": null,
      "id": "vlbZMVxJb_co",
      "metadata": {
        "id": "vlbZMVxJb_co"
      },
      "outputs": [],
      "source": [
        "import folium"
      ]
    },
    {
      "cell_type": "code",
      "execution_count": null,
      "id": "nOu8_MZpdmYp",
      "metadata": {
        "id": "nOu8_MZpdmYp"
      },
      "outputs": [],
      "source": [
        "folium.__version__"
      ]
    },
    {
      "cell_type": "code",
      "execution_count": null,
      "id": "I6cR5K0WfVWs",
      "metadata": {
        "id": "I6cR5K0WfVWs"
      },
      "outputs": [],
      "source": [
        "# 초기위치(위도,경도)=서귀포시 33.2541205,126.560076\n",
        "lati, long  = 33.2541205,126.560076\n",
        "map = folium.Map(location = [lati, long], zoom_start= 10)\n",
        "map"
      ]
    },
    {
      "cell_type": "code",
      "execution_count": null,
      "id": "nOsiZUfudqM9",
      "metadata": {
        "id": "nOsiZUfudqM9"
      },
      "outputs": [],
      "source": [
        "map = folium.Map(location = [ lati, long ],\n",
        "                 zoom_start= 10\n",
        "                 )\n",
        "tooltip = 'click'\n",
        "folium.Marker(\n",
        "    location = [lati, long ],\n",
        "    popup = '<strong>hello jeju</strong>',\n",
        "    icon = folium.Icon(color = 'pink', icon = 'heart'),\n",
        "    tooltip = tooltip\n",
        ").add_to(map)\n",
        "map"
      ]
    },
    {
      "cell_type": "code",
      "execution_count": null,
      "id": "RGUQF_o8eqUx",
      "metadata": {
        "id": "RGUQF_o8eqUx"
      },
      "outputs": [],
      "source": []
    },
    {
      "cell_type": "code",
      "execution_count": null,
      "id": "CyFxeE9ChIys",
      "metadata": {
        "id": "CyFxeE9ChIys"
      },
      "outputs": [],
      "source": []
    },
    {
      "cell_type": "markdown",
      "id": "SE7GhojtkdzW",
      "metadata": {
        "id": "SE7GhojtkdzW"
      },
      "source": [
        "### 제과점 위치 마커 표시하기"
      ]
    },
    {
      "cell_type": "code",
      "execution_count": null,
      "id": "ulA8cU9fk_XB",
      "metadata": {
        "id": "ulA8cU9fk_XB"
      },
      "outputs": [],
      "source": [
        "df.head()"
      ]
    },
    {
      "cell_type": "code",
      "execution_count": null,
      "id": "Om1gAdQTlMfY",
      "metadata": {
        "id": "Om1gAdQTlMfY"
      },
      "outputs": [],
      "source": []
    },
    {
      "cell_type": "code",
      "execution_count": null,
      "id": "wZxY-psxkuXY",
      "metadata": {
        "id": "wZxY-psxkuXY"
      },
      "outputs": [],
      "source": [
        "df.loc[0,'위도']\n",
        "df.loc[5, '위도']\n"
      ]
    },
    {
      "cell_type": "markdown",
      "id": "GY_oDK1do0l2",
      "metadata": {
        "id": "GY_oDK1do0l2"
      },
      "source": [
        "### 마커에 정보 넣기"
      ]
    },
    {
      "cell_type": "code",
      "execution_count": null,
      "id": "vruIYqhBoCXR",
      "metadata": {
        "id": "vruIYqhBoCXR"
      },
      "outputs": [],
      "source": [
        "for idx in df.index :\n",
        "  lat = df.loc[idx,'위도']\n",
        "  lng = df.loc[idx,'경도']\n",
        "  marker = folium.Marker(\n",
        "      location = [lat, lng],\n",
        "      popup = f\"<div style='width:100px'> <strong>{df.loc[idx,'업소명']}</strong><br>\\\n",
        "      {df.loc[idx, '소재지(지번)']}</div>\",\n",
        "      icon = folium.Icon(color='orange', icon='cloud')\n",
        "      )\n",
        "  marker.add_to(map)\n",
        "\n",
        "map"
      ]
    },
    {
      "cell_type": "code",
      "execution_count": null,
      "id": "TqrriZBQpcza",
      "metadata": {
        "id": "TqrriZBQpcza"
      },
      "outputs": [],
      "source": [
        "from folium.plugins import MarkerCluster\n",
        "\n",
        "map = folium.Map(location = [33.3616666,126.5291666 ],\n",
        "                 zoom_start= 10\n",
        "                 )\n",
        "\n",
        "marker_cluster = MarkerCluster().add_to(map)\n",
        "\n",
        "for idx in df.index :\n",
        "  lat = df.loc[idx,'위도']\n",
        "  lng = df.loc[idx,'경도']\n",
        "  marker = folium.Marker(\n",
        "      location = [lat, lng],\n",
        "      popup = f\"<div style='width:100px'> <strong>{df.loc[idx,'업소명']}</strong><br>\\\n",
        "      {df.loc[idx, '소재지(지번)']}</div>\",\n",
        "      icon = folium.Icon(color='orange', icon='cloud')\n",
        "      )\n",
        "  marker.add_to(marker_cluster)\n",
        "\n",
        "map\n"
      ]
    }
  ],
  "metadata": {
    "colab": {
      "provenance": [],
      "include_colab_link": true
    },
    "kernelspec": {
      "display_name": "Python 3 (ipykernel)",
      "language": "python",
      "name": "python3"
    },
    "language_info": {
      "codemirror_mode": {
        "name": "ipython",
        "version": 3
      },
      "file_extension": ".py",
      "mimetype": "text/x-python",
      "name": "python",
      "nbconvert_exporter": "python",
      "pygments_lexer": "ipython3",
      "version": "3.12.1"
    },
    "toc": {
      "base_numbering": 1,
      "nav_menu": {},
      "number_sections": true,
      "sideBar": true,
      "skip_h1_title": false,
      "title_cell": "Table of Contents",
      "title_sidebar": "Contents",
      "toc_cell": false,
      "toc_position": {},
      "toc_section_display": true,
      "toc_window_display": true
    },
    "varInspector": {
      "cols": {
        "lenName": 16,
        "lenType": 16,
        "lenVar": 40
      },
      "kernels_config": {
        "python": {
          "delete_cmd_postfix": "",
          "delete_cmd_prefix": "del ",
          "library": "var_list.py",
          "varRefreshCmd": "print(var_dic_list())"
        },
        "r": {
          "delete_cmd_postfix": ") ",
          "delete_cmd_prefix": "rm(",
          "library": "var_list.r",
          "varRefreshCmd": "cat(var_dic_list()) "
        }
      },
      "types_to_exclude": [
        "module",
        "function",
        "builtin_function_or_method",
        "instance",
        "_Feature"
      ],
      "window_display": false
    }
  },
  "nbformat": 4,
  "nbformat_minor": 5
}