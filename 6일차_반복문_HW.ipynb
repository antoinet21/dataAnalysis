{
  "nbformat": 4,
  "nbformat_minor": 0,
  "metadata": {
    "colab": {
      "provenance": [],
      "authorship_tag": "ABX9TyM4/knTBylzsWjXfripPLDp",
      "include_colab_link": true
    },
    "kernelspec": {
      "name": "python3",
      "display_name": "Python 3"
    },
    "language_info": {
      "name": "python"
    }
  },
  "cells": [
    {
      "cell_type": "markdown",
      "metadata": {
        "id": "view-in-github",
        "colab_type": "text"
      },
      "source": [
        "<a href=\"https://colab.research.google.com/github/antoinet21/dataAnalysis/blob/main/6%EC%9D%BC%EC%B0%A8_%EB%B0%98%EB%B3%B5%EB%AC%B8_HW.ipynb\" target=\"_parent\"><img src=\"https://colab.research.google.com/assets/colab-badge.svg\" alt=\"Open In Colab\"/></a>"
      ]
    },
    {
      "cell_type": "markdown",
      "source": [
        "# 제어문(조건문, 반복문) 1~1000까지 3의 배수의 합"
      ],
      "metadata": {
        "id": "sA6k3Z5pJP_X"
      }
    },
    {
      "cell_type": "code",
      "source": [
        "print('프로그램을 작성할 떄 일정한 구간의 명령을\\n 반복해서 실행하도록 구성한 문장을 무엇이라 하는가')\n",
        "while True:\n",
        "      answer = input('정답: ')\n",
        "      if answer == '반복문':\n",
        "         print('정답')\n",
        "         break\n",
        "      elif  answer == '반복':\n",
        "         print('좀 더 고민해보세요')\n",
        "         continue\n",
        "      print('오답')\n",
        "print('프로그램 종료')"
      ],
      "metadata": {
        "colab": {
          "base_uri": "https://localhost:8080/"
        },
        "id": "hFKWQU0MKp2N",
        "outputId": "b780953f-ebcc-4001-bfba-c0e9b8ca7dda"
      },
      "execution_count": 7,
      "outputs": [
        {
          "output_type": "stream",
          "name": "stdout",
          "text": [
            "프로그램을 작성할 떄 일정한 구간의 명령을\n",
            " 반복해서 실행하도록 구성한 문장을 무엇이라 하는가\n",
            "정답: 반복\n",
            "좀 더 고민해보세요\n",
            "정답: 반복문\n",
            "정답\n",
            "프로그램 종료\n"
          ]
        }
      ]
    },
    {
      "cell_type": "code",
      "source": [
        "seed, target = 10000000, 20000000\n",
        "balance, interest = 10000000, 0.035\n",
        "year = 0\n",
        "while balance <= target:\n",
        "    balance = balance + balance * interest\n",
        "    year += 1\n",
        "    print(f\"year: {year}년후 balance: {round(balance):,}원\")\n",
        "print(f\"{seed}원이 {target}이 되는데 {year}년이 걸립니다\")"
      ],
      "metadata": {
        "colab": {
          "base_uri": "https://localhost:8080/"
        },
        "id": "omB9QeG1JW_z",
        "outputId": "b4e7d717-d724-4ec8-ba5e-7508ec5316ac"
      },
      "execution_count": 50,
      "outputs": [
        {
          "output_type": "stream",
          "name": "stdout",
          "text": [
            "year: 1년후 balance: 10,350,000원\n",
            "year: 2년후 balance: 10,712,250원\n",
            "year: 3년후 balance: 11,087,179원\n",
            "year: 4년후 balance: 11,475,230원\n",
            "year: 5년후 balance: 11,876,863원\n",
            "year: 6년후 balance: 12,292,553원\n",
            "year: 7년후 balance: 12,722,793원\n",
            "year: 8년후 balance: 13,168,090원\n",
            "year: 9년후 balance: 13,628,974원\n",
            "year: 10년후 balance: 14,105,988원\n",
            "year: 11년후 balance: 14,599,697원\n",
            "year: 12년후 balance: 15,110,687원\n",
            "year: 13년후 balance: 15,639,561원\n",
            "year: 14년후 balance: 16,186,945원\n",
            "year: 15년후 balance: 16,753,488원\n",
            "year: 16년후 balance: 17,339,860원\n",
            "year: 17년후 balance: 17,946,756원\n",
            "year: 18년후 balance: 18,574,892원\n",
            "year: 19년후 balance: 19,225,013원\n",
            "year: 20년후 balance: 19,897,889원\n",
            "year: 21년후 balance: 20,594,315원\n",
            "10000000원이 20000000이 되는데 21년이 걸립니다\n"
          ]
        }
      ]
    },
    {
      "cell_type": "markdown",
      "source": [
        "# 1~N까지 3의 배수 합계"
      ],
      "metadata": {
        "id": "pvs3GEH5QFPV"
      }
    },
    {
      "cell_type": "code",
      "source": [
        "result = sum[i for i in range(1, 1001) if i%3 ==0 ]: )\n",
        "print(f'{result}')"
      ],
      "metadata": {
        "colab": {
          "base_uri": "https://localhost:8080/",
          "height": 111
        },
        "id": "mBN8jDU8QMLt",
        "outputId": "eade59e8-2278-4ad1-e53b-a1a84947f2b1"
      },
      "execution_count": 26,
      "outputs": [
        {
          "output_type": "error",
          "ename": "SyntaxError",
          "evalue": "unmatched ')' (<ipython-input-26-469abbbf989d>, line 1)",
          "traceback": [
            "\u001b[0;36m  File \u001b[0;32m\"<ipython-input-26-469abbbf989d>\"\u001b[0;36m, line \u001b[0;32m1\u001b[0m\n\u001b[0;31m    result = sum[i for i in range(1, 1001) if i%3 ==0 ]: )\u001b[0m\n\u001b[0m                                                         ^\u001b[0m\n\u001b[0;31mSyntaxError\u001b[0m\u001b[0;31m:\u001b[0m unmatched ')'\n"
          ]
        }
      ]
    },
    {
      "cell_type": "markdown",
      "source": [
        "# 별 찍기"
      ],
      "metadata": {
        "id": "O5-lOghyQ3gM"
      }
    },
    {
      "cell_type": "code",
      "source": [
        "star = '★'\n",
        "numbers = input('숫자 입력(0~9) 여러 개:' )\n",
        "for number in numbers:\n",
        "    for _ in range(int(number)*2):\n",
        "        print(star, end='')\n",
        "    print()\n",
        "#   print('\\u2605'*2)\n",
        "\n"
      ],
      "metadata": {
        "colab": {
          "base_uri": "https://localhost:8080/"
        },
        "id": "T7PZR7cBQ8lV",
        "outputId": "61eefc81-e5ce-42a7-c720-343b65bb75f6"
      },
      "execution_count": 33,
      "outputs": [
        {
          "output_type": "stream",
          "name": "stdout",
          "text": [
            "숫자 입력(0~9) 여러 개:123\n",
            "★★\n",
            "★★★★\n",
            "★★★★★★\n"
          ]
        }
      ]
    },
    {
      "cell_type": "code",
      "source": [
        "numStars = input('숫자를 여러개 입력하세요: ')\n",
        "\n",
        "for numStar in numStars:\n",
        "    print( '\\u2605' * int(numStar) * 2 )\n"
      ],
      "metadata": {
        "colab": {
          "base_uri": "https://localhost:8080/"
        },
        "id": "i9JH3wqPUj1m",
        "outputId": "cfcccb4c-b67a-4fb6-a181-d0bf57f1ee3f"
      },
      "execution_count": 36,
      "outputs": [
        {
          "output_type": "stream",
          "name": "stdout",
          "text": [
            "숫자를 여러개 입력하세요: 123\n",
            "★★\n",
            "★★★★\n",
            "★★★★★★\n"
          ]
        }
      ]
    },
    {
      "cell_type": "markdown",
      "source": [
        "# 구구단 출력"
      ],
      "metadata": {
        "id": "Y6SepKtLUsmV"
      }
    },
    {
      "cell_type": "markdown",
      "source": [
        "# 공 튀기기"
      ],
      "metadata": {
        "id": "Qh05y0hQVQM8"
      }
    },
    {
      "cell_type": "code",
      "source": [],
      "metadata": {
        "id": "NTSYA7dMVUWP"
      },
      "execution_count": null,
      "outputs": []
    },
    {
      "cell_type": "markdown",
      "source": [
        "# 커피머신 부족 금액"
      ],
      "metadata": {
        "id": "MRc25zlyW6fj"
      }
    },
    {
      "cell_type": "code",
      "source": [
        "# from gtts import gTTS\n",
        "# from IPython.display import Audio\n",
        "# import time\n",
        "\n",
        "# def speaker(stmt):\n",
        "#    kor_wav = gTTS(stmt, lang = 'ko')\n",
        "#    kor_wav.save('kor.wav')\n",
        "#    display(Audio('kor.wav', autoplay=True))\n",
        "\n",
        "menu = '''[커피 주문 머신 메뉴]\n",
        "-----------------------------\n",
        "- 아메리카노: 2500원\n",
        "- 카페라테:   3000원\n",
        "- 카페모카:   3000원\n",
        "-----------------------------\n",
        "원하시는 커피종류와 잔수를 입력하세요.'''\n",
        "print(menu)\n",
        "# speaker(menu)\n",
        "\n",
        "# time.sleep(2) # 2초 기다리기\n",
        "\n",
        "# speaker('아메리카노 몇잔')\n",
        "coffee1 = int(input('아메리카노 몇잔: '))\n",
        "# speaker('카페라테   몇잔')\n",
        "coffee2 = int(input('카페라테   몇잔: '))\n",
        "# speaker('카페모카   몇잔')\n",
        "coffee3 = int(input('카페모카   몇잔: '))\n",
        "\n",
        "total = 2500*coffee1 + 3000*coffee2 + 3000*coffee3\n",
        "print(f\"지불하실 총 금액은 {total:,}원 입니다.\")\n",
        "# speaker(f\"지불하실 총 금액은 {total:,}원 입니다.\")\n",
        "# money = int(input('돈을 넣어 주세요: '))\n",
        "\n",
        "while True:\n",
        "    print('------------------------------------------')\n",
        "    money = int(input('돈을 넣어 주세요: '))\n",
        "\n",
        "    change = money - total   # 거스름돈\n",
        "    if change < 0 :\n",
        "       print(f\"돈이 부족합니다. {abs(change):,}원을 더 넣어주세요.\")\n",
        "       total = total - money\n",
        "    else:\n",
        "        print(f\"거스름돈은 {abs(change):,}입니다. 커피 맛있게 드세요~\")\n",
        "        break\n"
      ],
      "metadata": {
        "colab": {
          "base_uri": "https://localhost:8080/"
        },
        "id": "3O4xudowX9Td",
        "outputId": "0d68954c-b884-4aac-b3aa-b029d534dce2"
      },
      "execution_count": 47,
      "outputs": [
        {
          "output_type": "stream",
          "name": "stdout",
          "text": [
            "[커피 주문 머신 메뉴]\n",
            "-----------------------------\n",
            "- 아메리카노: 2500원\n",
            "- 카페라테:   3000원\n",
            "- 카페모카:   3000원\n",
            "-----------------------------\n",
            "원하시는 커피종류와 잔수를 입력하세요.\n",
            "아메리카노 몇잔: 1\n",
            "카페라테   몇잔: 1\n",
            "카페모카   몇잔: 1\n",
            "지불하실 총 금액은 8,500원 입니다.\n",
            "------------------------------------------\n",
            "돈을 넣어 주세요: 10000\n",
            "거스름돈은 1,500입니다. 커피 맛있게 드세요~\n"
          ]
        }
      ]
    },
    {
      "cell_type": "markdown",
      "source": [
        "#  방 체크인"
      ],
      "metadata": {
        "id": "EVi-yfOSa30k"
      }
    },
    {
      "cell_type": "code",
      "source": [
        "from ast import Continue\n",
        "print('호텔관리 시스템 입니다.')\n",
        "menu = '''1. 체크인\n",
        "2. 체크아웃\n",
        "3. 입실현황\n",
        "0. 종료'''\n",
        "\n",
        "number = int(input('호텔 방의 개수는: ') )\n",
        "hotel = [0 for _ in range(number)]\n",
        "print(f\"방 현황: {hotel} (0:빈방, 1: 입실중)\")\n",
        "while True:\n",
        "    print(f'----------------------------------------------\\n{menu}')\n",
        "    select = input('-->메뉴 선택:')\n",
        "    if select == '0':\n",
        "        break\n",
        "    if select == '1': # 체크인\n",
        "        num = int(input(f'체크인하실 방 호수(1~{len(hotel)}): '))\n",
        "        if hotel[num-1]: # 이미 입실 중일 때\n",
        "            print(f\"{num}호는 이미 입실 중입니다.\")\n",
        "        else:\n",
        "            hotel[num-1] = 1\n",
        "            continue\n",
        "\n",
        "    if select == '2': # 체크아웃\n",
        "        num = int(input(f'체크아웃 하실 방 호수(1~{len(hotel)}): '))\n",
        "        if hotel[num-1]: # 이미 입실 중일 때, 체크아웃 가능\n",
        "            hotel[num-1] = 0\n",
        "            print(f\"{num}호는 체크아웃 처리 완료되었습니다.\")\n",
        "            print(f'-----------------------------')\n",
        "        else:\n",
        "          print(f\"{num}호는 빈 방이라 체크아웃 불가능합니다.\")\n",
        "          print(f'-----------------------------')\n",
        "          continue\n",
        "\n",
        "    if select == '3': # 현황보기\n",
        "        for idx, room in enumerate(hotel):   # [0, 0, 0]에서 시작하니까\n",
        "            if room == 0:\n",
        "                print(f'-----------------------------')\n",
        "                print(f\"{idx+1}호 빈방\")\n",
        "            elif room == 1:\n",
        "                print(f'-----------------------------')\n",
        "                print(f\"{idx+1}호 입실중\")\n",
        "\n",
        "print(f'-----------------------------')\n",
        "print('프로그램 종료!')\n"
      ],
      "metadata": {
        "colab": {
          "base_uri": "https://localhost:8080/"
        },
        "id": "D--KUtbQbA1l",
        "outputId": "cbb45e19-9b2b-4d26-ff92-eb0e5a1fff63"
      },
      "execution_count": 68,
      "outputs": [
        {
          "output_type": "stream",
          "name": "stdout",
          "text": [
            "호텔관리 시스템 입니다.\n",
            "호텔 방의 개수는: 3\n",
            "방 현황: [0, 0, 0] (0:빈방, 1: 입실중)\n",
            "----------------------------------------------\n",
            "1. 체크인\n",
            "2. 체크아웃\n",
            "3. 입실현황\n",
            "0. 종료\n",
            "-->메뉴 선택:0\n",
            "-----------------------------\n",
            "프로그램 종료!\n"
          ]
        }
      ]
    }
  ]
}