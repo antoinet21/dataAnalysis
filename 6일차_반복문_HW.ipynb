{
  "nbformat": 4,
  "nbformat_minor": 0,
  "metadata": {
    "colab": {
      "provenance": [],
      "authorship_tag": "ABX9TyObo1YqFK4hZX4zgaYbGcYO",
      "include_colab_link": true
    },
    "kernelspec": {
      "name": "python3",
      "display_name": "Python 3"
    },
    "language_info": {
      "name": "python"
    }
  },
  "cells": [
    {
      "cell_type": "markdown",
      "metadata": {
        "id": "view-in-github",
        "colab_type": "text"
      },
      "source": [
        "<a href=\"https://colab.research.google.com/github/antoinet21/dataAnalysis/blob/main/6%EC%9D%BC%EC%B0%A8_%EB%B0%98%EB%B3%B5%EB%AC%B8_HW.ipynb\" target=\"_parent\"><img src=\"https://colab.research.google.com/assets/colab-badge.svg\" alt=\"Open In Colab\"/></a>"
      ]
    },
    {
      "cell_type": "markdown",
      "source": [
        "# 제어문(조건문, 반복문) 1~1000까지 3의 배수의 합"
      ],
      "metadata": {
        "id": "sA6k3Z5pJP_X"
      }
    },
    {
      "cell_type": "code",
      "source": [
        "print('프로그램을 작성할 떄 일정한 구간의 명령을\\n 반복해서 실행하도록 구성한 문장을 무엇이라 하는가')\n",
        "while True:\n",
        "      answer = input('정답: ')\n",
        "      if answer == '반복문':\n",
        "         print('정답')\n",
        "         break\n",
        "      elif  answer == '반복':\n",
        "         print('좀 더 고민해보세요')\n",
        "         continue\n",
        "      print('오답')\n",
        "print('프로그램 종료')"
      ],
      "metadata": {
        "colab": {
          "base_uri": "https://localhost:8080/"
        },
        "id": "hFKWQU0MKp2N",
        "outputId": "b780953f-ebcc-4001-bfba-c0e9b8ca7dda"
      },
      "execution_count": 7,
      "outputs": [
        {
          "output_type": "stream",
          "name": "stdout",
          "text": [
            "프로그램을 작성할 떄 일정한 구간의 명령을\n",
            " 반복해서 실행하도록 구성한 문장을 무엇이라 하는가\n",
            "정답: 반복\n",
            "좀 더 고민해보세요\n",
            "정답: 반복문\n",
            "정답\n",
            "프로그램 종료\n"
          ]
        }
      ]
    },
    {
      "cell_type": "code",
      "source": [
        "seed, target = 10000000, 20000000\n",
        "balance, interest = 10000000, 0.035\n",
        "year = 0\n",
        "while balance <= target:\n",
        "    balance = balance + balance * interest\n",
        "    year += 1\n",
        "    print(f\"year: {year}년후 balance: {round(balance)}원\")\n",
        "print(f\"{seed}원이 {target}이 되는데 {year}년이 걸립니다\")"
      ],
      "metadata": {
        "colab": {
          "base_uri": "https://localhost:8080/"
        },
        "id": "omB9QeG1JW_z",
        "outputId": "c2206461-1517-45c5-f15a-7e496117ad8c"
      },
      "execution_count": 23,
      "outputs": [
        {
          "output_type": "stream",
          "name": "stdout",
          "text": [
            "year: 1년후 balance: 10350000원\n",
            "year: 2년후 balance: 10712250원\n",
            "year: 3년후 balance: 11087179원\n",
            "year: 4년후 balance: 11475230원\n",
            "year: 5년후 balance: 11876863원\n",
            "year: 6년후 balance: 12292553원\n",
            "year: 7년후 balance: 12722793원\n",
            "year: 8년후 balance: 13168090원\n",
            "year: 9년후 balance: 13628974원\n",
            "year: 10년후 balance: 14105988원\n",
            "year: 11년후 balance: 14599697원\n",
            "year: 12년후 balance: 15110687원\n",
            "year: 13년후 balance: 15639561원\n",
            "year: 14년후 balance: 16186945원\n",
            "year: 15년후 balance: 16753488원\n",
            "year: 16년후 balance: 17339860원\n",
            "year: 17년후 balance: 17946756원\n",
            "year: 18년후 balance: 18574892원\n",
            "year: 19년후 balance: 19225013원\n",
            "year: 20년후 balance: 19897889원\n",
            "year: 21년후 balance: 20594315원\n",
            "10000000원이 20000000이 되는데 21년이 걸립니다\n"
          ]
        }
      ]
    },
    {
      "cell_type": "markdown",
      "source": [
        "# 1~N까지 3의 배수 합계"
      ],
      "metadata": {
        "id": "pvs3GEH5QFPV"
      }
    },
    {
      "cell_type": "code",
      "source": [
        "result = sum[i for i in range(1, 1001) if i%3 ==0 ]: )\n",
        "print(f'{result}')"
      ],
      "metadata": {
        "colab": {
          "base_uri": "https://localhost:8080/",
          "height": 111
        },
        "id": "mBN8jDU8QMLt",
        "outputId": "eade59e8-2278-4ad1-e53b-a1a84947f2b1"
      },
      "execution_count": 26,
      "outputs": [
        {
          "output_type": "error",
          "ename": "SyntaxError",
          "evalue": "unmatched ')' (<ipython-input-26-469abbbf989d>, line 1)",
          "traceback": [
            "\u001b[0;36m  File \u001b[0;32m\"<ipython-input-26-469abbbf989d>\"\u001b[0;36m, line \u001b[0;32m1\u001b[0m\n\u001b[0;31m    result = sum[i for i in range(1, 1001) if i%3 ==0 ]: )\u001b[0m\n\u001b[0m                                                         ^\u001b[0m\n\u001b[0;31mSyntaxError\u001b[0m\u001b[0;31m:\u001b[0m unmatched ')'\n"
          ]
        }
      ]
    },
    {
      "cell_type": "markdown",
      "source": [
        "# 별 찍기"
      ],
      "metadata": {
        "id": "O5-lOghyQ3gM"
      }
    },
    {
      "cell_type": "code",
      "source": [
        "star = '★'\n",
        "numbers = input('숫자 입력(0~9) 여러 개:' )\n",
        "for number in numbers:\n",
        "    for _ in range(int(number)*2):\n",
        "        print(star, end='')\n",
        "    print()\n",
        "#   print('\\u2605'*2)\n",
        "\n"
      ],
      "metadata": {
        "colab": {
          "base_uri": "https://localhost:8080/"
        },
        "id": "T7PZR7cBQ8lV",
        "outputId": "61eefc81-e5ce-42a7-c720-343b65bb75f6"
      },
      "execution_count": 33,
      "outputs": [
        {
          "output_type": "stream",
          "name": "stdout",
          "text": [
            "숫자 입력(0~9) 여러 개:123\n",
            "★★\n",
            "★★★★\n",
            "★★★★★★\n"
          ]
        }
      ]
    },
    {
      "cell_type": "code",
      "source": [
        "numStars = input('숫자를 여러개 입력하세요: ')\n",
        "\n",
        "for numStar in numStars:\n",
        "    print( '\\u2605' * int(numStar) * 2 )\n"
      ],
      "metadata": {
        "colab": {
          "base_uri": "https://localhost:8080/"
        },
        "id": "i9JH3wqPUj1m",
        "outputId": "cfcccb4c-b67a-4fb6-a181-d0bf57f1ee3f"
      },
      "execution_count": 36,
      "outputs": [
        {
          "output_type": "stream",
          "name": "stdout",
          "text": [
            "숫자를 여러개 입력하세요: 123\n",
            "★★\n",
            "★★★★\n",
            "★★★★★★\n"
          ]
        }
      ]
    },
    {
      "cell_type": "markdown",
      "source": [
        "# 구구단 출력"
      ],
      "metadata": {
        "id": "Y6SepKtLUsmV"
      }
    }
  ]
}