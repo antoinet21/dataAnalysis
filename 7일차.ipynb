{
  "nbformat": 4,
  "nbformat_minor": 0,
  "metadata": {
    "colab": {
      "provenance": [],
      "authorship_tag": "ABX9TyM4wppEG5DU6mmFStWndp8Y",
      "include_colab_link": true
    },
    "kernelspec": {
      "name": "python3",
      "display_name": "Python 3"
    },
    "language_info": {
      "name": "python"
    }
  },
  "cells": [
    {
      "cell_type": "markdown",
      "metadata": {
        "id": "view-in-github",
        "colab_type": "text"
      },
      "source": [
        "<a href=\"https://colab.research.google.com/github/antoinet21/dataAnalysis/blob/main/7%EC%9D%BC%EC%B0%A8.ipynb\" target=\"_parent\"><img src=\"https://colab.research.google.com/assets/colab-badge.svg\" alt=\"Open In Colab\"/></a>"
      ]
    },
    {
      "cell_type": "markdown",
      "source": [
        "# 5-1 함수 정의\n",
        "# 암스트롱 수 출력하기 (p.168)"
      ],
      "metadata": {
        "id": "pF2JEeA8Tp03"
      }
    },
    {
      "cell_type": "code",
      "source": [
        "def is_armstrongNumber(n):\n",
        "    _1, _2, _3 = int(str(n)[0]), int(str(n)[1]), int(str(n)[2])\n",
        "    if _1**3+_2**3+_3**3 == n:\n",
        "        return True\n",
        "    else:\n",
        "        return False\n",
        "\n",
        "for n in range(100, 1000):\n",
        "    if is_armstrongNumber(n):\n",
        "        print(f\"[{n}] is armstrong number\")\n"
      ],
      "metadata": {
        "colab": {
          "base_uri": "https://localhost:8080/"
        },
        "id": "R2bTYzgHT1Qo",
        "outputId": "70861beb-774f-4abe-8a95-461db68c7a9c"
      },
      "execution_count": null,
      "outputs": [
        {
          "output_type": "stream",
          "name": "stdout",
          "text": [
            "[153] is armstrong number\n",
            "[370] is armstrong number\n",
            "[371] is armstrong number\n",
            "[407] is armstrong number\n"
          ]
        }
      ]
    },
    {
      "cell_type": "code",
      "source": [
        "def is_armstrongNumber(N):\n",
        "    strNum = str(N)\n",
        "    sumNum = 0\n",
        "    for n in strNum:\n",
        "        sumNum += int(n)**3\n",
        "    return N == sumNum\n",
        "\n",
        "for i in range(100,1000):\n",
        "    if is_armstrongNumber(i):\n",
        "        print(f\"[{i}] is armstrong number.\")"
      ],
      "metadata": {
        "colab": {
          "base_uri": "https://localhost:8080/"
        },
        "id": "euWfCmbNW8hH",
        "outputId": "7cf7eac2-f327-4520-93f5-3aeb3f895ffa"
      },
      "execution_count": null,
      "outputs": [
        {
          "output_type": "stream",
          "name": "stdout",
          "text": [
            "[153] is armstrong number.\n",
            "[370] is armstrong number.\n",
            "[371] is armstrong number.\n",
            "[407] is armstrong number.\n"
          ]
        }
      ]
    },
    {
      "cell_type": "markdown",
      "source": [
        "# 커피 머신 함수"
      ],
      "metadata": {
        "id": "py33wjfHXQzm"
      }
    },
    {
      "cell_type": "code",
      "source": [
        "def coffeemachine()\n",
        "\n",
        "menu = '''[커피 주문 머신 메뉴]\n",
        "-----------------------------\n",
        "- 아메리카노: 2500원\n",
        "- 카페라테:   3000원\n",
        "- 카페모카:   3000원\n",
        "-----------------------------\n",
        "원하시는 커피종류와 잔수를 입력하세요.'''\n",
        "print(menu)\n",
        "coffee1 = int(input('아메리카노 몇잔: '))\n",
        "coffee2 = int(input('카페라테   몇잔: '))\n",
        "coffee3 = int(input('카페모카   몇잔: '))\n",
        "\n",
        "\n",
        "total = 2500*coffee1 + 3000*coffee2 + 3000*coffee3\n",
        "print(f\"지불하실 총 금액은 {total:,}원 입니다.\")\n",
        "\n",
        "while True:\n",
        "    print('------------------------')\n",
        "    money = int(input('돈을 넣어 주세요: '))\n",
        "    change = money - total   # 거스름돈\n",
        "    if change < 0:\n",
        "        print(f\"돈이 부족합니다. {abs(change):,}원을 더 넣어주세요.\")\n",
        "        total = total - money\n",
        "    else:\n",
        "        print(f\"거스름돈은 {change:,}입니다. 커피 맛있게 드세요~\")\n",
        "        break\n",
        "\n",
        "\n",
        "\n",
        "\n",
        "coffeemachine()\n"
      ],
      "metadata": {
        "id": "0CxAuYUEXVlY"
      },
      "execution_count": null,
      "outputs": []
    },
    {
      "cell_type": "markdown",
      "source": [],
      "metadata": {
        "id": "6KeuEOgzYBLA"
      }
    },
    {
      "cell_type": "code",
      "source": [
        "print('호텔관리 시스템입니다.')\n",
        "menu = '''\n",
        "1. 체크인\n",
        "2. 체크아웃\n",
        "3. 입실현황\n",
        "0. 종료'''\n",
        "number = int(input('호텔 방의 개수는(입력): '))\n",
        "hotel = [0 for _ in range(number)]\n",
        "print(f\"방 현황: {hotel} (0:빈방, 1:입실중)\")\n",
        "\n",
        "\n",
        "\n",
        "def check_in():\n",
        "    num = int(input(f'체크-in하실 방 호수(1~{len(hotel)}): '))\n",
        "    if hotel[num-1]:   # 이미 입실 중일 때\n",
        "        print(f\"{num}번 방은 이미 입실 중입니다.\")\n",
        "    else:\n",
        "            hotel[num-1] = 1\n",
        "\n",
        "def check_out():\n",
        "    num = int(input(f'체크-out하실 방 호수(1~{len(hotel)}): '))\n",
        "    if hotel[num-1]: # 체크아웃 처리\n",
        "        hotel[num-1] = 0    # 빈 방 상태로 만듦\n",
        "    else:\n",
        "        print(f'{hotel[num]}번 방은 빈 방입니다. 빈 방은 체크-out하실 수 없습니다.')\n",
        "\n",
        "def view_room():\n",
        "    for idx, room in enumerate(hotel): #[0, 0, 0]\n",
        "        if room == 0:\n",
        "            print(f\"{idx+1}호: 빈방\")\n",
        "        elif room == 1:\n",
        "            print(f\"{idx+1}호: 입실중\")\n",
        "\n",
        "\n",
        "\n",
        "while True:\n",
        "    print('-------------------')\n",
        "    print(menu)\n",
        "    select = input('-->메뉴 선택: ')\n",
        "    if select == '0':\n",
        "        break\n",
        "\n",
        "    elif select == '1': # 체크인\n",
        "        check_in()\n",
        "        continue\n",
        "\n",
        "    elif select == '2': # 체크아웃\n",
        "        check_out()\n",
        "\n",
        "    elif select == '3': # 현황보기\n",
        "        view_room()\n",
        "\n",
        "\n",
        "print('-------------------')\n",
        "print('프로그램 종료!')"
      ],
      "metadata": {
        "id": "f4eMZvG8YBrA",
        "colab": {
          "base_uri": "https://localhost:8080/"
        },
        "outputId": "580175ec-7332-4131-a293-46ecdcd26b5a"
      },
      "execution_count": 16,
      "outputs": [
        {
          "output_type": "stream",
          "name": "stdout",
          "text": [
            "호텔관리 시스템입니다.\n",
            "호텔 방의 개수는(입력): 3\n",
            "방 현황: [0, 0, 0] (0:빈방, 1:입실중)\n",
            "-------------------\n",
            "\n",
            "1. 체크인\n",
            "2. 체크아웃\n",
            "3. 입실현황\n",
            "0. 종료\n",
            "-->메뉴 선택: 1\n",
            "체크-in하실 방 호수(1~3): 2\n",
            "-------------------\n",
            "\n",
            "1. 체크인\n",
            "2. 체크아웃\n",
            "3. 입실현황\n",
            "0. 종료\n",
            "-->메뉴 선택: 3\n",
            "1호: 빈방\n",
            "2호: 입실중\n",
            "3호: 빈방\n",
            "-------------------\n",
            "\n",
            "1. 체크인\n",
            "2. 체크아웃\n",
            "3. 입실현황\n",
            "0. 종료\n",
            "-->메뉴 선택: 1\n",
            "체크-in하실 방 호수(1~3): 2\n",
            "2번 방은 이미 입실 중입니다.\n",
            "-------------------\n",
            "\n",
            "1. 체크인\n",
            "2. 체크아웃\n",
            "3. 입실현황\n",
            "0. 종료\n",
            "-->메뉴 선택: 1\n",
            "체크-in하실 방 호수(1~3): 3\n",
            "-------------------\n",
            "\n",
            "1. 체크인\n",
            "2. 체크아웃\n",
            "3. 입실현황\n",
            "0. 종료\n",
            "-->메뉴 선택: 3\n",
            "1호: 빈방\n",
            "2호: 입실중\n",
            "3호: 입실중\n",
            "-------------------\n",
            "\n",
            "1. 체크인\n",
            "2. 체크아웃\n",
            "3. 입실현황\n",
            "0. 종료\n",
            "-->메뉴 선택: 2\n",
            "체크-out하실 방 호수(1~3): 3\n",
            "-------------------\n",
            "\n",
            "1. 체크인\n",
            "2. 체크아웃\n",
            "3. 입실현황\n",
            "0. 종료\n",
            "-->메뉴 선택: 3\n",
            "1호: 빈방\n",
            "2호: 입실중\n",
            "3호: 빈방\n",
            "-------------------\n",
            "\n",
            "1. 체크인\n",
            "2. 체크아웃\n",
            "3. 입실현황\n",
            "0. 종료\n",
            "-->메뉴 선택: 0\n",
            "-------------------\n",
            "프로그램 종료!\n"
          ]
        }
      ]
    }
  ]
}