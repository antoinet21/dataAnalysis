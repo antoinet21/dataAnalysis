{
  "nbformat": 4,
  "nbformat_minor": 0,
  "metadata": {
    "colab": {
      "provenance": [],
      "authorship_tag": "ABX9TyM6H7gWnpvtEMFoM1nY+PXP",
      "include_colab_link": true
    },
    "kernelspec": {
      "name": "python3",
      "display_name": "Python 3"
    },
    "language_info": {
      "name": "python"
    }
  },
  "cells": [
    {
      "cell_type": "markdown",
      "metadata": {
        "id": "view-in-github",
        "colab_type": "text"
      },
      "source": [
        "<a href=\"https://colab.research.google.com/github/antoinet21/dataAnalysis/blob/main/4%EC%9D%BC%EC%B0%A8_%EC%A1%B0%EA%B1%B4%EB%AC%B8.ipynb\" target=\"_parent\"><img src=\"https://colab.research.google.com/assets/colab-badge.svg\" alt=\"Open In Colab\"/></a>"
      ]
    },
    {
      "cell_type": "markdown",
      "source": [
        "1. if조건문(if만 사용)"
      ],
      "metadata": {
        "id": "jIdKwHVbc2rE"
      }
    },
    {
      "cell_type": "code",
      "source": [
        "a = int(  input('숫자를 입력하세요'))\n",
        "if a < 100:\n",
        "  print(f\"{a}는 100보다 작군요\")"
      ],
      "metadata": {
        "colab": {
          "base_uri": "https://localhost:8080/"
        },
        "id": "PGfglMPydEWC",
        "outputId": "e6edbefd-3cff-4056-fd73-5bb1c360ab42"
      },
      "execution_count": 4,
      "outputs": [
        {
          "name": "stdout",
          "output_type": "stream",
          "text": [
            "숫자를 입력하세요101\n"
          ]
        }
      ]
    },
    {
      "cell_type": "markdown",
      "source": [
        "2. if~else~ 조건문"
      ],
      "metadata": {
        "id": "lRGR2sINdCzR"
      }
    },
    {
      "cell_type": "code",
      "source": [
        "a = int(  input('숫자를 입력하세요'))\n",
        "if a < 100:\n",
        "  print(f\"{a}는 100보다 작군요\")\n",
        "else:\n",
        "  print(f\"{a}는 100보다 작지 않군요\")"
      ],
      "metadata": {
        "colab": {
          "base_uri": "https://localhost:8080/"
        },
        "id": "WnLZXJyUdOhp",
        "outputId": "9205e09e-fa51-493c-ff3b-6b17e322c14f"
      },
      "execution_count": 10,
      "outputs": [
        {
          "output_type": "stream",
          "name": "stdout",
          "text": [
            "숫자를 입력하세요10\n",
            "10는 100보다 작군요\n"
          ]
        }
      ]
    },
    {
      "cell_type": "markdown",
      "source": [
        "3. 중첩if조건문(if 안에 if문)"
      ],
      "metadata": {
        "id": "PJznuhRzdPTp"
      }
    },
    {
      "cell_type": "code",
      "source": [
        "a = int(  input('숫자를 입력하세요'))\n",
        "if a < 100:\n",
        "    if a < 50:\n",
        "        print(f\"{a}는 50보다 작군요\")\n",
        "    else:\n",
        "        print(f\"{a}는 50보다 크거나 같고 100보다 작군요\")\n",
        "else:\n",
        "    if a==100:\n",
        "        print(f\"{a} 는 100과 같군요\")\n",
        "    else:\n",
        "        print(f\"{a}는 100보다 크군요\")"
      ],
      "metadata": {
        "colab": {
          "base_uri": "https://localhost:8080/"
        },
        "id": "ESHUWyzudZ_y",
        "outputId": "34154189-d069-4417-d861-163928516a8a"
      },
      "execution_count": 15,
      "outputs": [
        {
          "output_type": "stream",
          "name": "stdout",
          "text": [
            "숫자를 입력하세요102\n",
            "102는 100보다 크군요\n"
          ]
        }
      ]
    },
    {
      "cell_type": "markdown",
      "source": [
        "4. 짝 홀 수 판별"
      ],
      "metadata": {
        "id": "Q2MJZpUiglqs"
      }
    },
    {
      "cell_type": "code",
      "source": [
        "x = int(input('숫자 입력:'))\n",
        "if  x%2==0: print(f\"{x}는 짝수\")\n",
        "else:       print(f\"{x}는 홀수\")"
      ],
      "metadata": {
        "colab": {
          "base_uri": "https://localhost:8080/"
        },
        "id": "O27kmH6sgpnM",
        "outputId": "b9206cd4-f007-4357-d0cf-977000fdb1b7"
      },
      "execution_count": 14,
      "outputs": [
        {
          "output_type": "stream",
          "name": "stdout",
          "text": [
            "숫자 입력:34\n",
            "34는 짝수\n"
          ]
        }
      ]
    },
    {
      "cell_type": "markdown",
      "source": [
        "5. 가위 바위 보 승패 게임"
      ],
      "metadata": {
        "id": "zEV6ktZ5iBQB"
      }
    },
    {
      "cell_type": "code",
      "source": [
        "import random         # 난수 발생 모듈\n",
        "# random.randint(1,10)  # 1~10까지 중 난수\n",
        "computer = random.choice(['가위','바위','보'])\n",
        "my = input('가위/바위/보 중 하나 입력:')\n",
        "# print(\"computer:{computer}, my:{my}\")\n",
        "print(f\"COMPUTER : {computer}\")\n",
        "\n",
        "if (my == computer) :\n",
        "    print(\"비겼습니다\")\n",
        "elif (my == '가위' and computer == '바위') or \\\n",
        "    (my == '바위' and computer == '가위') or \\\n",
        "    (my == '보' and computer == '바위') :\n",
        "    print(\"컴이 이겼습니다\")\n",
        "else:\n",
        "    print(\"내가 이겼습니다\")\n",
        "\n",
        "\n"
      ],
      "metadata": {
        "colab": {
          "base_uri": "https://localhost:8080/"
        },
        "id": "MYhR8_f8iB9T",
        "outputId": "de3207f8-6695-40e6-f20e-5c9f7768f376"
      },
      "execution_count": 43,
      "outputs": [
        {
          "output_type": "stream",
          "name": "stdout",
          "text": [
            "가위/바위/보 중 하나 입력:바위\n",
            "COMPUTER : 보\n",
            "내가 이겼습니다\n"
          ]
        }
      ]
    },
    {
      "cell_type": "markdown",
      "source": [
        "6. 직각삼각형"
      ],
      "metadata": {
        "id": "7UBZA7IJp-Uy"
      }
    },
    {
      "cell_type": "code",
      "source": [
        "a = int(input('밑변의 길이 입력:'))\n",
        "b = int(input('높이의 길이 입력:'))\n",
        "c = int(input('빗변의 길이 입력:'))\n",
        "if ( c**2 == a**2 + b**2):\n",
        "    print(f\"{a**2}, {b**2}, {c**2} 는 직각삼각형?\")\n",
        "    print(f\"따리서, {a}, {b}, {c} 는 직각삼각형!\")\n",
        "else:\n",
        "     print(f\"{a**2}, {b**2}, {c**2} 는 직각삼각형?\")\n",
        "     print(f\"따라서 {a}, {b}, {c} 는 직각삼각형이 아니다!\")\n"
      ],
      "metadata": {
        "colab": {
          "base_uri": "https://localhost:8080/"
        },
        "id": "nDLSFZQ-qCPK",
        "outputId": "03d70c8b-6f34-4635-8b4c-f18bce44e9d4"
      },
      "execution_count": 52,
      "outputs": [
        {
          "output_type": "stream",
          "name": "stdout",
          "text": [
            "밑변의 길이 입력:5\n",
            "높이의 길이 입력:6\n",
            "빗변의 길이 입력:7\n",
            "25, 36, 49 는 직각삼각형?\n",
            "따라서 5, 6, 7 는 직각삼각형이 아니다!\n"
          ]
        }
      ]
    },
    {
      "cell_type": "markdown",
      "source": [
        "7. 다중 조건문"
      ],
      "metadata": {
        "id": "GUXHOFH3yEcD"
      }
    },
    {
      "cell_type": "code",
      "source": [
        "age = int(input('나이 : '))\n",
        "if age <= 7:\n",
        "     print('미취학 아동입니다.')\n",
        "elif age < 14:\n",
        "     print('초등학생 아동입니다.')\n",
        "elif age < 17:\n",
        "     print('중학생 입니다.')\n",
        "elif age < 19:\n",
        "     print('고등학생 입니다.')\n",
        "else:\n",
        "     print('성인 입니다.')"
      ],
      "metadata": {
        "colab": {
          "base_uri": "https://localhost:8080/"
        },
        "id": "AhP_r1xyyNCD",
        "outputId": "48a641f7-d45b-4a82-cd43-c99288272234"
      },
      "execution_count": 61,
      "outputs": [
        {
          "output_type": "stream",
          "name": "stdout",
          "text": [
            "나이 : 25\n",
            "성인 입니다.\n"
          ]
        }
      ]
    },
    {
      "cell_type": "code",
      "source": [],
      "metadata": {
        "id": "V3hFG7xXz3bK"
      },
      "execution_count": null,
      "outputs": []
    }
  ]
}