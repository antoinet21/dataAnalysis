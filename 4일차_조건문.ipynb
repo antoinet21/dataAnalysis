{
  "nbformat": 4,
  "nbformat_minor": 0,
  "metadata": {
    "colab": {
      "provenance": [],
      "authorship_tag": "ABX9TyOAqUxwJ2t1gXc/bw7au7T7",
      "include_colab_link": true
    },
    "kernelspec": {
      "name": "python3",
      "display_name": "Python 3"
    },
    "language_info": {
      "name": "python"
    }
  },
  "cells": [
    {
      "cell_type": "markdown",
      "metadata": {
        "id": "view-in-github",
        "colab_type": "text"
      },
      "source": [
        "<a href=\"https://colab.research.google.com/github/antoinet21/dataAnalysis/blob/main/4%EC%9D%BC%EC%B0%A8_%EC%A1%B0%EA%B1%B4%EB%AC%B8.ipynb\" target=\"_parent\"><img src=\"https://colab.research.google.com/assets/colab-badge.svg\" alt=\"Open In Colab\"/></a>"
      ]
    },
    {
      "cell_type": "markdown",
      "source": [
        "1. if조건문(if만 사용)"
      ],
      "metadata": {
        "id": "jIdKwHVbc2rE"
      }
    },
    {
      "cell_type": "code",
      "source": [
        "a = int(  input('숫자를 입력하세요'))\n",
        "if a < 100:\n",
        "  print(f\"{a}는 100보다 작군요\")"
      ],
      "metadata": {
        "colab": {
          "base_uri": "https://localhost:8080/"
        },
        "id": "PGfglMPydEWC",
        "outputId": "e6edbefd-3cff-4056-fd73-5bb1c360ab42"
      },
      "execution_count": 4,
      "outputs": [
        {
          "name": "stdout",
          "output_type": "stream",
          "text": [
            "숫자를 입력하세요101\n"
          ]
        }
      ]
    },
    {
      "cell_type": "markdown",
      "source": [
        "2. if~else~ 조건문"
      ],
      "metadata": {
        "id": "lRGR2sINdCzR"
      }
    },
    {
      "cell_type": "code",
      "source": [
        "a = int(  input('숫자를 입력하세요'))\n",
        "if a < 100:\n",
        "  print(f\"{a}는 100보다 작군요\")\n",
        "else:\n",
        "  print(f\"{a}는 100보다 작지 않군요\")"
      ],
      "metadata": {
        "colab": {
          "base_uri": "https://localhost:8080/"
        },
        "id": "WnLZXJyUdOhp",
        "outputId": "9205e09e-fa51-493c-ff3b-6b17e322c14f"
      },
      "execution_count": 10,
      "outputs": [
        {
          "output_type": "stream",
          "name": "stdout",
          "text": [
            "숫자를 입력하세요10\n",
            "10는 100보다 작군요\n"
          ]
        }
      ]
    },
    {
      "cell_type": "markdown",
      "source": [
        "3. 중첩if조건문(if 안에 if문)"
      ],
      "metadata": {
        "id": "PJznuhRzdPTp"
      }
    },
    {
      "cell_type": "code",
      "source": [
        "a = int(  input('숫자를 입력하세요'))\n",
        "if a < 100:\n",
        "    if a < 50:\n",
        "        print(f\"{a}는 50보다 작군요\")\n",
        "    else:\n",
        "        print(f\"{a}는 50보다 크거나 같고 100보다 작군요\")\n",
        "else:\n",
        "    if a==100:\n",
        "        print(f\"{a} 는 100과 같군요\")\n",
        "    else:\n",
        "        print(f\"{a}는 100보다 크군요\")"
      ],
      "metadata": {
        "colab": {
          "base_uri": "https://localhost:8080/"
        },
        "id": "ESHUWyzudZ_y",
        "outputId": "34154189-d069-4417-d861-163928516a8a"
      },
      "execution_count": 15,
      "outputs": [
        {
          "output_type": "stream",
          "name": "stdout",
          "text": [
            "숫자를 입력하세요102\n",
            "102는 100보다 크군요\n"
          ]
        }
      ]
    },
    {
      "cell_type": "markdown",
      "source": [
        "4. 짝 홀 수 판별"
      ],
      "metadata": {
        "id": "Q2MJZpUiglqs"
      }
    },
    {
      "cell_type": "code",
      "source": [
        "x = int(input('숫자 입력:'))\n",
        "if  x%2==0: print(f\"{x}는 짝수\")\n",
        "else:       print(f\"{x}는 홀수\")"
      ],
      "metadata": {
        "colab": {
          "base_uri": "https://localhost:8080/"
        },
        "id": "O27kmH6sgpnM",
        "outputId": "b9206cd4-f007-4357-d0cf-977000fdb1b7"
      },
      "execution_count": 14,
      "outputs": [
        {
          "output_type": "stream",
          "name": "stdout",
          "text": [
            "숫자 입력:34\n",
            "34는 짝수\n"
          ]
        }
      ]
    },
    {
      "cell_type": "markdown",
      "source": [
        "5. 가위 바위 보 승패 게임"
      ],
      "metadata": {
        "id": "zEV6ktZ5iBQB"
      }
    },
    {
      "cell_type": "code",
      "source": [
        "import random         # 난수 발생 모듈\n",
        "# random.randint(1,10)  # 1~10까지 중 난수\n",
        "computer = random.choice(['가위','바위','보'])\n",
        "my = input('가위/바위/보 중 하나 입력:')\n",
        "# print(\"computer:{computer}, my:{my}\")\n",
        "print(f\"COMPUTER : {computer}\")\n",
        "\n",
        "if (my == computer) :\n",
        "    print(\"비겼습니다\")\n",
        "elif (my == '가위' and computer == '바위') or \\\n",
        "    (my == '바위' and computer == '가위') or \\\n",
        "    (my == '보' and computer == '바위') :\n",
        "    print(\"컴이 이겼습니다\")\n",
        "else:\n",
        "    print(\"내가 이겼습니다\")\n",
        "\n",
        "\n"
      ],
      "metadata": {
        "colab": {
          "base_uri": "https://localhost:8080/"
        },
        "id": "MYhR8_f8iB9T",
        "outputId": "de3207f8-6695-40e6-f20e-5c9f7768f376"
      },
      "execution_count": 43,
      "outputs": [
        {
          "output_type": "stream",
          "name": "stdout",
          "text": [
            "가위/바위/보 중 하나 입력:바위\n",
            "COMPUTER : 보\n",
            "내가 이겼습니다\n"
          ]
        }
      ]
    },
    {
      "cell_type": "markdown",
      "source": [
        "6. 직각삼각형"
      ],
      "metadata": {
        "id": "7UBZA7IJp-Uy"
      }
    },
    {
      "cell_type": "code",
      "source": [
        "a = int(input('밑변의 길이 입력:'))\n",
        "b = int(input('높이의 길이 입력:'))\n",
        "c = int(input('빗변의 길이 입력:'))\n",
        "if ( c**2 == a**2 + b**2):\n",
        "    print(f\"{a**2}, {b**2}, {c**2} 는 직각삼각형?\")\n",
        "    print(f\"따리서, {a}, {b}, {c} 는 직각삼각형!\")\n",
        "else:\n",
        "     print(f\"{a**2}, {b**2}, {c**2} 는 직각삼각형?\")\n",
        "     print(f\"따라서 {a}, {b}, {c} 는 직각삼각형이 아니다!\")\n"
      ],
      "metadata": {
        "colab": {
          "base_uri": "https://localhost:8080/"
        },
        "id": "nDLSFZQ-qCPK",
        "outputId": "03d70c8b-6f34-4635-8b4c-f18bce44e9d4"
      },
      "execution_count": 52,
      "outputs": [
        {
          "output_type": "stream",
          "name": "stdout",
          "text": [
            "밑변의 길이 입력:5\n",
            "높이의 길이 입력:6\n",
            "빗변의 길이 입력:7\n",
            "25, 36, 49 는 직각삼각형?\n",
            "따라서 5, 6, 7 는 직각삼각형이 아니다!\n"
          ]
        }
      ]
    },
    {
      "cell_type": "markdown",
      "source": [
        "7. 다중 조건문"
      ],
      "metadata": {
        "id": "GUXHOFH3yEcD"
      }
    },
    {
      "cell_type": "code",
      "source": [
        "age = int(input('나이 : '))\n",
        "if age <= 7:\n",
        "     print('미취학 아동입니다.')\n",
        "elif age < 14:\n",
        "     print('초등학생 아동입니다.')\n",
        "elif age < 17:\n",
        "     print('중학생 입니다.')\n",
        "elif age < 19:\n",
        "     print('고등학생 입니다.')\n",
        "else:\n",
        "     print('성인 입니다.')"
      ],
      "metadata": {
        "colab": {
          "base_uri": "https://localhost:8080/"
        },
        "id": "AhP_r1xyyNCD",
        "outputId": "48a641f7-d45b-4a82-cd43-c99288272234"
      },
      "execution_count": 61,
      "outputs": [
        {
          "output_type": "stream",
          "name": "stdout",
          "text": [
            "나이 : 25\n",
            "성인 입니다.\n"
          ]
        }
      ]
    },
    {
      "cell_type": "markdown",
      "source": [
        "8. 조건부 표현식"
      ],
      "metadata": {
        "id": "2cFtavHy1R5G"
      }
    },
    {
      "cell_type": "code",
      "source": [
        "if score > = 60\n",
        "    message = \"success\"\n",
        "else:\n",
        "    message = \"failure\""
      ],
      "metadata": {
        "id": "nve3_JWm2gQM"
      },
      "execution_count": null,
      "outputs": []
    },
    {
      "cell_type": "markdown",
      "source": [
        "9. 기온 조건 상황\n",
        "- 온도가 30도 이상이면 에어컨을 켜고\n",
        "- 온도가 20도 미만이면 되면 내복을 입고\n",
        "- 온도가 10도 이하면 난방기를 켠다."
      ],
      "metadata": {
        "id": "xLhuCY4e2vGc"
      }
    },
    {
      "cell_type": "code",
      "source": [
        "degree = int(input('온도 : '))\n",
        "if degree >= 30:\n",
        "     print('에어컨을 켜세요.')\n",
        "elif degree <= 10:\n",
        "     print('난방기를 켜세요.')\n",
        "elif degree < 20:\n",
        "     print('내복을 입으세요.')\n",
        "else:\n",
        "     print('쾌적한 날씨입니다')"
      ],
      "metadata": {
        "colab": {
          "base_uri": "https://localhost:8080/"
        },
        "id": "4ea41c3f2yTH",
        "outputId": "0c47dfc3-8547-4820-ed82-23bf63e28186"
      },
      "execution_count": 69,
      "outputs": [
        {
          "output_type": "stream",
          "name": "stdout",
          "text": [
            "온도 : 9\n",
            "난방기를 켜세요.\n"
          ]
        }
      ]
    },
    {
      "cell_type": "code",
      "source": [
        "degree = int(input('온도 : '))\n",
        "if degree >= 30:\n",
        "     print('에어컨을 켜세요.')\n",
        "else:\n",
        "    if 20<= degree < 30: print('쾌적한 날씨입니다')\n",
        "    if degree <20:   print('내복을 입으세요.')\n",
        "    if degree <= 10: print('난방기를 켜세요.')\n"
      ],
      "metadata": {
        "colab": {
          "base_uri": "https://localhost:8080/"
        },
        "id": "gBBd6G_R68H-",
        "outputId": "b9918abb-d2a1-41ce-8094-95c24323d32f"
      },
      "execution_count": 79,
      "outputs": [
        {
          "output_type": "stream",
          "name": "stdout",
          "text": [
            "온도 : 9\n",
            "내복을 입으세요.\n",
            "난방기를 켜세요.\n"
          ]
        }
      ]
    },
    {
      "cell_type": "markdown",
      "source": [
        "10. 커피 자동주문 머신 프로그램\n"
      ],
      "metadata": {
        "id": "G8O8gCgX80Wl"
      }
    },
    {
      "cell_type": "code",
      "source": [
        "!pip install gTTS"
      ],
      "metadata": {
        "colab": {
          "base_uri": "https://localhost:8080/"
        },
        "id": "BEJsJT-oBKqm",
        "outputId": "83479742-3225-46db-f7aa-b452fa990361"
      },
      "execution_count": 88,
      "outputs": [
        {
          "output_type": "stream",
          "name": "stdout",
          "text": [
            "Requirement already satisfied: gTTS in /usr/local/lib/python3.10/dist-packages (2.5.1)\n",
            "Requirement already satisfied: requests<3,>=2.27 in /usr/local/lib/python3.10/dist-packages (from gTTS) (2.31.0)\n",
            "Requirement already satisfied: click<8.2,>=7.1 in /usr/local/lib/python3.10/dist-packages (from gTTS) (8.1.7)\n",
            "Requirement already satisfied: charset-normalizer<4,>=2 in /usr/local/lib/python3.10/dist-packages (from requests<3,>=2.27->gTTS) (3.3.2)\n",
            "Requirement already satisfied: idna<4,>=2.5 in /usr/local/lib/python3.10/dist-packages (from requests<3,>=2.27->gTTS) (3.6)\n",
            "Requirement already satisfied: urllib3<3,>=1.21.1 in /usr/local/lib/python3.10/dist-packages (from requests<3,>=2.27->gTTS) (2.0.7)\n",
            "Requirement already satisfied: certifi>=2017.4.17 in /usr/local/lib/python3.10/dist-packages (from requests<3,>=2.27->gTTS) (2024.2.2)\n"
          ]
        }
      ]
    },
    {
      "cell_type": "code",
      "source": [
        " from gtts import gTTS\n",
        " from IPython.display import Audio\n",
        "\n",
        " def speaker(stm):\n",
        "    kor_wav = gTTS(menu, lang='ko')\n",
        "    kor_wav.save('kor.wav') #저장하지 않으면 너무 빨리 읽는다\n",
        "    display(Audio('kor.wav', autoplay=True))\n",
        "\n",
        " menu = '''[커피 주문 머신 메뉴]\n",
        "-----------------------------\n",
        "- 아메리카노: 2500원\n",
        "- 카페라테:   3000원\n",
        "- 카페모카:   3000원\n",
        "-----------------------------\n",
        "원하시는 커피종류와 잔수를 입력하세요.'''\n",
        "speaker(menu)\n",
        "coffee1 = int(input('아메리카노 몇잔: '))\n",
        "coffee2 = int(input('카페라테   몇잔: '))\n",
        "coffee3 = int(input('카페모카   몇잔: '))\n",
        "\n",
        "total = 2500*coffee1 + 3000*coffee2 + 3000*coffee3\n",
        "print(f\"지불하실 총 금액은 {total:,}원 입니다.\")\n",
        "money = int(input('돈을 넣어 주세요: '))\n",
        "\n",
        "change = total-money   # 거스름돈\n",
        "if total > money:\n",
        "    print(f\"돈이 부족합니다. {change:,}원을 더 넣어주세요.\")\n",
        "else:\n",
        "    print(f\"거스름돈은 {abs(change):,}입니다. 커피 맛있게 드세요~\")"
      ],
      "metadata": {
        "colab": {
          "base_uri": "https://localhost:8080/",
          "height": 450
        },
        "id": "U7qKbsYE8-T_",
        "outputId": "51f5b2ac-426a-4d15-8ad2-7fd232a8b5d1"
      },
      "execution_count": 96,
      "outputs": [
        {
          "output_type": "display_data",
          "data": {
            "text/plain": [
              "<IPython.lib.display.Audio object>"
            ],
            "text/html": [
              "\n",
              "                <audio  controls=\"controls\" autoplay=\"autoplay\">\n",
              "                    <source src=\"data:audio/x-wav;base64,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\" type=\"audio/x-wav\" />\n",
              "                    Your browser does not support the audio element.\n",
              "                </audio>\n",
              "              "
            ]
          },
          "metadata": {}
        },
        {
          "output_type": "error",
          "ename": "KeyboardInterrupt",
          "evalue": "Interrupted by user",
          "traceback": [
            "\u001b[0;31m---------------------------------------------------------------------------\u001b[0m",
            "\u001b[0;31mKeyboardInterrupt\u001b[0m                         Traceback (most recent call last)",
            "\u001b[0;32m<ipython-input-96-5bc8e3f8b92e>\u001b[0m in \u001b[0;36m<cell line: 17>\u001b[0;34m()\u001b[0m\n\u001b[1;32m     15\u001b[0m 원하시는 커피종류와 잔수를 입력하세요.'''\n\u001b[1;32m     16\u001b[0m \u001b[0mspeaker\u001b[0m\u001b[0;34m(\u001b[0m\u001b[0mmenu\u001b[0m\u001b[0;34m)\u001b[0m\u001b[0;34m\u001b[0m\u001b[0;34m\u001b[0m\u001b[0m\n\u001b[0;32m---> 17\u001b[0;31m \u001b[0mcoffee1\u001b[0m \u001b[0;34m=\u001b[0m \u001b[0mint\u001b[0m\u001b[0;34m(\u001b[0m\u001b[0minput\u001b[0m\u001b[0;34m(\u001b[0m\u001b[0;34m'아메리카노 몇잔: '\u001b[0m\u001b[0;34m)\u001b[0m\u001b[0;34m)\u001b[0m\u001b[0;34m\u001b[0m\u001b[0;34m\u001b[0m\u001b[0m\n\u001b[0m\u001b[1;32m     18\u001b[0m \u001b[0mcoffee2\u001b[0m \u001b[0;34m=\u001b[0m \u001b[0mint\u001b[0m\u001b[0;34m(\u001b[0m\u001b[0minput\u001b[0m\u001b[0;34m(\u001b[0m\u001b[0;34m'카페라테   몇잔: '\u001b[0m\u001b[0;34m)\u001b[0m\u001b[0;34m)\u001b[0m\u001b[0;34m\u001b[0m\u001b[0;34m\u001b[0m\u001b[0m\n\u001b[1;32m     19\u001b[0m \u001b[0mcoffee3\u001b[0m \u001b[0;34m=\u001b[0m \u001b[0mint\u001b[0m\u001b[0;34m(\u001b[0m\u001b[0minput\u001b[0m\u001b[0;34m(\u001b[0m\u001b[0;34m'카페모카   몇잔: '\u001b[0m\u001b[0;34m)\u001b[0m\u001b[0;34m)\u001b[0m\u001b[0;34m\u001b[0m\u001b[0;34m\u001b[0m\u001b[0m\n",
            "\u001b[0;32m/usr/local/lib/python3.10/dist-packages/ipykernel/kernelbase.py\u001b[0m in \u001b[0;36mraw_input\u001b[0;34m(self, prompt)\u001b[0m\n\u001b[1;32m    849\u001b[0m                 \u001b[0;34m\"raw_input was called, but this frontend does not support input requests.\"\u001b[0m\u001b[0;34m\u001b[0m\u001b[0;34m\u001b[0m\u001b[0m\n\u001b[1;32m    850\u001b[0m             )\n\u001b[0;32m--> 851\u001b[0;31m         return self._input_request(str(prompt),\n\u001b[0m\u001b[1;32m    852\u001b[0m             \u001b[0mself\u001b[0m\u001b[0;34m.\u001b[0m\u001b[0m_parent_ident\u001b[0m\u001b[0;34m,\u001b[0m\u001b[0;34m\u001b[0m\u001b[0;34m\u001b[0m\u001b[0m\n\u001b[1;32m    853\u001b[0m             \u001b[0mself\u001b[0m\u001b[0;34m.\u001b[0m\u001b[0m_parent_header\u001b[0m\u001b[0;34m,\u001b[0m\u001b[0;34m\u001b[0m\u001b[0;34m\u001b[0m\u001b[0m\n",
            "\u001b[0;32m/usr/local/lib/python3.10/dist-packages/ipykernel/kernelbase.py\u001b[0m in \u001b[0;36m_input_request\u001b[0;34m(self, prompt, ident, parent, password)\u001b[0m\n\u001b[1;32m    893\u001b[0m             \u001b[0;32mexcept\u001b[0m \u001b[0mKeyboardInterrupt\u001b[0m\u001b[0;34m:\u001b[0m\u001b[0;34m\u001b[0m\u001b[0;34m\u001b[0m\u001b[0m\n\u001b[1;32m    894\u001b[0m                 \u001b[0;31m# re-raise KeyboardInterrupt, to truncate traceback\u001b[0m\u001b[0;34m\u001b[0m\u001b[0;34m\u001b[0m\u001b[0m\n\u001b[0;32m--> 895\u001b[0;31m                 \u001b[0;32mraise\u001b[0m \u001b[0mKeyboardInterrupt\u001b[0m\u001b[0;34m(\u001b[0m\u001b[0;34m\"Interrupted by user\"\u001b[0m\u001b[0;34m)\u001b[0m \u001b[0;32mfrom\u001b[0m \u001b[0;32mNone\u001b[0m\u001b[0;34m\u001b[0m\u001b[0;34m\u001b[0m\u001b[0m\n\u001b[0m\u001b[1;32m    896\u001b[0m             \u001b[0;32mexcept\u001b[0m \u001b[0mException\u001b[0m \u001b[0;32mas\u001b[0m \u001b[0me\u001b[0m\u001b[0;34m:\u001b[0m\u001b[0;34m\u001b[0m\u001b[0;34m\u001b[0m\u001b[0m\n\u001b[1;32m    897\u001b[0m                 \u001b[0mself\u001b[0m\u001b[0;34m.\u001b[0m\u001b[0mlog\u001b[0m\u001b[0;34m.\u001b[0m\u001b[0mwarning\u001b[0m\u001b[0;34m(\u001b[0m\u001b[0;34m\"Invalid Message:\"\u001b[0m\u001b[0;34m,\u001b[0m \u001b[0mexc_info\u001b[0m\u001b[0;34m=\u001b[0m\u001b[0;32mTrue\u001b[0m\u001b[0;34m)\u001b[0m\u001b[0;34m\u001b[0m\u001b[0;34m\u001b[0m\u001b[0m\n",
            "\u001b[0;31mKeyboardInterrupt\u001b[0m: Interrupted by user"
          ]
        }
      ]
    }
  ]
}