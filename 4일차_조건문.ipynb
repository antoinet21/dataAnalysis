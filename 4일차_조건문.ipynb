{
  "nbformat": 4,
  "nbformat_minor": 0,
  "metadata": {
    "colab": {
      "provenance": [],
      "authorship_tag": "ABX9TyMs3bTQFLLkD27mdVgy8F/U",
      "include_colab_link": true
    },
    "kernelspec": {
      "name": "python3",
      "display_name": "Python 3"
    },
    "language_info": {
      "name": "python"
    }
  },
  "cells": [
    {
      "cell_type": "markdown",
      "metadata": {
        "id": "view-in-github",
        "colab_type": "text"
      },
      "source": [
        "<a href=\"https://colab.research.google.com/github/antoinet21/dataAnalysis/blob/main/4%EC%9D%BC%EC%B0%A8_%EC%A1%B0%EA%B1%B4%EB%AC%B8.ipynb\" target=\"_parent\"><img src=\"https://colab.research.google.com/assets/colab-badge.svg\" alt=\"Open In Colab\"/></a>"
      ]
    },
    {
      "cell_type": "markdown",
      "source": [
        "1. if조건문(if만 사용)"
      ],
      "metadata": {
        "id": "jIdKwHVbc2rE"
      }
    },
    {
      "cell_type": "code",
      "source": [
        "a = int(  input('숫자를 입력하세요'))\n",
        "if a < 100:\n",
        "  print(f\"{a}는 100보다 작군요\")"
      ],
      "metadata": {
        "colab": {
          "base_uri": "https://localhost:8080/"
        },
        "id": "PGfglMPydEWC",
        "outputId": "e6edbefd-3cff-4056-fd73-5bb1c360ab42"
      },
      "execution_count": 4,
      "outputs": [
        {
          "name": "stdout",
          "output_type": "stream",
          "text": [
            "숫자를 입력하세요101\n"
          ]
        }
      ]
    },
    {
      "cell_type": "markdown",
      "source": [
        "2. if~else~ 조건문"
      ],
      "metadata": {
        "id": "lRGR2sINdCzR"
      }
    },
    {
      "cell_type": "code",
      "source": [
        "a = int(  input('숫자를 입력하세요'))\n",
        "if a < 100:\n",
        "  print(f\"{a}는 100보다 작군요\")\n",
        "else:\n",
        "  print(f\"{a}는 100보다 작지 않군요\")"
      ],
      "metadata": {
        "colab": {
          "base_uri": "https://localhost:8080/"
        },
        "id": "WnLZXJyUdOhp",
        "outputId": "9205e09e-fa51-493c-ff3b-6b17e322c14f"
      },
      "execution_count": 10,
      "outputs": [
        {
          "output_type": "stream",
          "name": "stdout",
          "text": [
            "숫자를 입력하세요10\n",
            "10는 100보다 작군요\n"
          ]
        }
      ]
    },
    {
      "cell_type": "markdown",
      "source": [
        "3. 중첩if조건문(if 안에 if문)"
      ],
      "metadata": {
        "id": "PJznuhRzdPTp"
      }
    },
    {
      "cell_type": "code",
      "source": [
        "a = int(  input('숫자를 입력하세요'))\n",
        "if a < 100:\n",
        "    if a < 50:\n",
        "        print(f\"{a}는 50보다 작군요\")\n",
        "    else:\n",
        "        print(f\"{a}는 50보다 크거나 같고 100보다 작군요\")\n",
        "else:\n",
        "    if a==100:\n",
        "        print(f\"{a} 는 100과 같군요\")\n",
        "    else:\n",
        "        print(f\"{a}는 100보다 크군요\")"
      ],
      "metadata": {
        "colab": {
          "base_uri": "https://localhost:8080/"
        },
        "id": "ESHUWyzudZ_y",
        "outputId": "34154189-d069-4417-d861-163928516a8a"
      },
      "execution_count": 15,
      "outputs": [
        {
          "output_type": "stream",
          "name": "stdout",
          "text": [
            "숫자를 입력하세요102\n",
            "102는 100보다 크군요\n"
          ]
        }
      ]
    },
    {
      "cell_type": "markdown",
      "source": [
        "4. 짝 홀 수 판별"
      ],
      "metadata": {
        "id": "Q2MJZpUiglqs"
      }
    },
    {
      "cell_type": "code",
      "source": [
        "x = int(input('숫자 입력:'))\n",
        "if  x%2==0: print(f\"{x}는 짝수\")\n",
        "else:       print(f\"{x}는 홀수\")"
      ],
      "metadata": {
        "colab": {
          "base_uri": "https://localhost:8080/"
        },
        "id": "O27kmH6sgpnM",
        "outputId": "b9206cd4-f007-4357-d0cf-977000fdb1b7"
      },
      "execution_count": 14,
      "outputs": [
        {
          "output_type": "stream",
          "name": "stdout",
          "text": [
            "숫자 입력:34\n",
            "34는 짝수\n"
          ]
        }
      ]
    },
    {
      "cell_type": "markdown",
      "source": [
        "5. 가위 바위 보 승패 게임"
      ],
      "metadata": {
        "id": "zEV6ktZ5iBQB"
      }
    },
    {
      "cell_type": "code",
      "source": [
        "import random         # 난수 발생 모듈\n",
        "# random.randint(1,10)  # 1~10까지 중 난수\n",
        "computer = random.choice(['가위','바위','보'])\n",
        "my = input('가위/바위/보 중 하나 입력:')\n",
        "# print(\"computer:{computer}, my:{my}\")\n",
        "print(f\"COMPUTER : {computer}\")\n",
        "\n",
        "if (my == computer) :\n",
        "    print(\"비겼습니다\")\n",
        "elif (my == '가위' and computer == '바위') or \\\n",
        "    (my == '바위' and computer == '가위') or \\\n",
        "    (my == '보' and computer == '바위') :\n",
        "    print(\"컴이 이겼습니다\")\n",
        "else:\n",
        "    print(\"내가 이겼습니다\")\n",
        "\n",
        "\n"
      ],
      "metadata": {
        "id": "MYhR8_f8iB9T"
      },
      "execution_count": null,
      "outputs": []
    }
  ]
}